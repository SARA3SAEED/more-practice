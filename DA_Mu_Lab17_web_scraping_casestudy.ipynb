{
  "cells": [
    {
      "cell_type": "markdown",
      "metadata": {
        "id": "view-in-github",
        "colab_type": "text"
      },
      "source": [
        "<a href=\"https://colab.research.google.com/github/SARA3SAEED/more-practice/blob/main/DA_Mu_Lab17_web_scraping_casestudy.ipynb\" target=\"_parent\"><img src=\"https://colab.research.google.com/assets/colab-badge.svg\" alt=\"Open In Colab\"/></a>"
      ]
    },
    {
      "cell_type": "markdown",
      "metadata": {
        "id": "8A5pyOTsj9uo"
      },
      "source": [
        "# ADVANCED PANDAS: DATA IMPORTING & WEB SCRAPING"
      ]
    },
    {
      "cell_type": "markdown",
      "metadata": {
        "id": "D638jD0nj9ut"
      },
      "source": [
        "Course Outline:\n",
        "- Basic Data Importing\n",
        "    - Flat Files (.csv, .tsv, .txt)\n",
        "    - Excel Files (.xlsx)\n",
        "    - Other Files (.dta, .mat, .. etc)\n",
        "- Importing Data from Relational Databases\n",
        "    - SQL Crash Course\n",
        "    - Database Files (.db, .sqlite, .. etc)\n",
        "- ***Importing Data from the Internet***\n",
        "    - HTML & CSS Crash Course\n",
        "    - Web Scraping Basics\n",
        "    - Working with JSON Data & APIs\n",
        "- ***Case-study: Wuzzuf.com [Web Scraping]***"
      ]
    },
    {
      "cell_type": "code",
      "execution_count": null,
      "metadata": {
        "id": "pYQFGOAKj9uu"
      },
      "outputs": [],
      "source": []
    },
    {
      "cell_type": "markdown",
      "metadata": {
        "id": "-2DFulGij9uv"
      },
      "source": [
        "### Importing Libraries"
      ]
    },
    {
      "cell_type": "code",
      "execution_count": null,
      "metadata": {
        "id": "xgfcYnySj9uw"
      },
      "outputs": [],
      "source": [
        "import numpy as np\n",
        "import pandas as pd\n",
        "import matplotlib.pyplot as plt\n",
        "import seaborn as sns\n",
        "%matplotlib inline\n",
        "sns.set()"
      ]
    },
    {
      "cell_type": "code",
      "execution_count": null,
      "metadata": {
        "id": "SNcd0cZ0j9ux"
      },
      "outputs": [],
      "source": []
    },
    {
      "cell_type": "markdown",
      "metadata": {
        "id": "CJPlRFR8j9ux"
      },
      "source": [
        "=========="
      ]
    },
    {
      "cell_type": "markdown",
      "metadata": {
        "id": "sIm3Lv0Gj9uy"
      },
      "source": [
        "## Case-study: Wuzzuf.com [Web Scraping]"
      ]
    },
    {
      "cell_type": "markdown",
      "metadata": {
        "id": "S6o6eMc-j9uy"
      },
      "source": [
        "- Wuzzuf.com URL: https://wuzzuf.net/search/jobs/?a=navbl%7Cspbl&q=illustrator\n",
        "- Full Tutorial: https://www.edureka.co/blog/web-scraping-with-python/"
      ]
    },
    {
      "cell_type": "markdown",
      "metadata": {
        "id": "FnZHYnfzj9uz"
      },
      "source": [
        "##### How Do You Scrape Data From A Website?"
      ]
    },
    {
      "cell_type": "markdown",
      "metadata": {
        "id": "LMSYL3Byj9uz"
      },
      "source": [
        "- Find the URL that you want to scrape\n",
        "- Inspecting the Page\n",
        "- Find the data you want to extract\n",
        "- Write the code\n",
        "- Run the code and extract the data\n",
        "- Store the data in the required format"
      ]
    },
    {
      "cell_type": "code",
      "execution_count": null,
      "metadata": {
        "id": "5SqXPJnej9uz"
      },
      "outputs": [],
      "source": []
    },
    {
      "cell_type": "markdown",
      "metadata": {
        "id": "6pVJxTxNj9uz"
      },
      "source": [
        "##### Importing Libraries & Methods"
      ]
    },
    {
      "cell_type": "code",
      "execution_count": null,
      "metadata": {
        "id": "2jycoK4vj9u0"
      },
      "outputs": [],
      "source": [
        "# BeautifulSoup is a Python library for pulling data out of HTML and XML files\n",
        "from bs4 import BeautifulSoup as bs\n",
        "\n",
        "# urllib.request for opening and reading URLs\n",
        "from urllib.request import urlopen"
      ]
    },
    {
      "cell_type": "code",
      "execution_count": null,
      "metadata": {
        "id": "Pc4AB4Pij9u0"
      },
      "outputs": [],
      "source": []
    },
    {
      "cell_type": "markdown",
      "metadata": {
        "id": "7sfoIvITj9u0"
      },
      "source": [
        "##### Inputting the URL"
      ]
    },
    {
      "cell_type": "code",
      "execution_count": null,
      "metadata": {
        "id": "MWBZv2trj9u0"
      },
      "outputs": [],
      "source": [
        "# Getting the website page address\n",
        "url = 'https://wuzzuf.net/search/jobs/?a=navbl%7Cspbl&q=illustrator'"
      ]
    },
    {
      "cell_type": "code",
      "execution_count": null,
      "metadata": {
        "id": "XBN96n8Bj9u0"
      },
      "outputs": [],
      "source": []
    },
    {
      "cell_type": "markdown",
      "metadata": {
        "id": "CaSdQxHlj9u1"
      },
      "source": [
        "##### Create a Client-based Request to Get the URL"
      ]
    },
    {
      "cell_type": "code",
      "execution_count": null,
      "metadata": {
        "id": "4ahCRkirj9u1"
      },
      "outputs": [],
      "source": [
        "client = urlopen(url)"
      ]
    },
    {
      "cell_type": "code",
      "execution_count": null,
      "metadata": {
        "id": "w6TzNXu1j9u1"
      },
      "outputs": [],
      "source": []
    },
    {
      "cell_type": "markdown",
      "metadata": {
        "id": "H7d4g6hBj9u1"
      },
      "source": [
        "##### Getting the HTML Code of the Full Page"
      ]
    },
    {
      "cell_type": "code",
      "execution_count": null,
      "metadata": {
        "scrolled": true,
        "id": "NxknmpKwj9u1"
      },
      "outputs": [],
      "source": [
        "html = client.read()\n",
        "print(html)"
      ]
    },
    {
      "cell_type": "code",
      "execution_count": null,
      "metadata": {
        "id": "KoUNt5hgj9u1"
      },
      "outputs": [],
      "source": []
    },
    {
      "cell_type": "markdown",
      "metadata": {
        "id": "6iPdYZCmj9u1"
      },
      "source": [
        "##### Closing the Request"
      ]
    },
    {
      "cell_type": "code",
      "execution_count": null,
      "metadata": {
        "id": "FdXmo1EPj9u2"
      },
      "outputs": [],
      "source": [
        "client.close()"
      ]
    },
    {
      "cell_type": "code",
      "execution_count": null,
      "metadata": {
        "id": "vVeKYax6j9u2"
      },
      "outputs": [],
      "source": []
    },
    {
      "cell_type": "markdown",
      "metadata": {
        "id": "jeVgLrH2j9u2"
      },
      "source": [
        "##### Creating an HTML Parser Using BeautifulSoup"
      ]
    },
    {
      "cell_type": "code",
      "execution_count": null,
      "metadata": {
        "id": "O4RWRaSoj9u2"
      },
      "outputs": [],
      "source": [
        "soup = bs(html, \"html.parser\")"
      ]
    },
    {
      "cell_type": "code",
      "execution_count": null,
      "metadata": {
        "id": "J7yBL2mSj9u2"
      },
      "outputs": [],
      "source": [
        "# Now we have a well-prepared html code\n",
        "soup"
      ]
    },
    {
      "cell_type": "code",
      "execution_count": null,
      "metadata": {
        "id": "foFH0PWnj9u2"
      },
      "outputs": [],
      "source": []
    },
    {
      "cell_type": "markdown",
      "metadata": {
        "id": "fG4GE9Ffj9u3"
      },
      "source": [
        "##### Creating a Container for the Needed Data"
      ]
    },
    {
      "cell_type": "code",
      "execution_count": null,
      "metadata": {
        "id": "oaC-tpiVj9u3"
      },
      "outputs": [],
      "source": [
        "containers = soup.find_all(\"div\", {\"class\" : \"css-qa8nz1-Card e1v1l3u10\"})"
      ]
    },
    {
      "cell_type": "code",
      "execution_count": null,
      "metadata": {
        "id": "XaSYGxpOj9u3"
      },
      "outputs": [],
      "source": [
        "len(containers)"
      ]
    },
    {
      "cell_type": "code",
      "execution_count": null,
      "metadata": {
        "scrolled": true,
        "id": "y2txzxXIj9u3"
      },
      "outputs": [],
      "source": [
        "print(bs.prettify(containers[0]))"
      ]
    },
    {
      "cell_type": "code",
      "execution_count": null,
      "metadata": {
        "id": "w6r8gpgej9u3"
      },
      "outputs": [],
      "source": []
    },
    {
      "cell_type": "markdown",
      "metadata": {
        "id": "kb1nIcX1j9u3"
      },
      "source": [
        "##### Accessing Page Elements"
      ]
    },
    {
      "cell_type": "code",
      "execution_count": null,
      "metadata": {
        "id": "CgsQyzm4j9u4"
      },
      "outputs": [],
      "source": [
        "# Let's check how to access a specific element in the page (i.e. the job title)\n",
        "containers[0].div.h2.text"
      ]
    },
    {
      "cell_type": "code",
      "execution_count": null,
      "metadata": {
        "id": "xyiZIX2mj9u4"
      },
      "outputs": [],
      "source": [
        "# Here is the best practice (better way) for accessing the job title\n",
        "job_title = containers[0].findAll(\"h2\", {\"class\": \"css-m604qf\"})\n",
        "job_title[0].text"
      ]
    },
    {
      "cell_type": "code",
      "execution_count": null,
      "metadata": {
        "id": "b6_Be-ekj9u-"
      },
      "outputs": [],
      "source": [
        "company_name = containers[0].findAll(\"a\", {\"class\": \"css-17s97q8\"})\n",
        "company_name[0].text"
      ]
    },
    {
      "cell_type": "code",
      "execution_count": null,
      "metadata": {
        "id": "ufl-MGCbj9u-"
      },
      "outputs": [],
      "source": [
        "job_type = containers[0].findAll(\"a\", {\"class\": \"css-n2jc4m\"})\n",
        "job_type[0].text"
      ]
    },
    {
      "cell_type": "code",
      "execution_count": null,
      "metadata": {
        "id": "wLY986BDj9u-"
      },
      "outputs": [],
      "source": []
    },
    {
      "cell_type": "markdown",
      "metadata": {
        "id": "WM8BOPF0j9u-"
      },
      "source": [
        "##### Bringing it All Together"
      ]
    },
    {
      "cell_type": "code",
      "execution_count": null,
      "metadata": {
        "id": "9pd_9e7nj9u-"
      },
      "outputs": [],
      "source": [
        "# We need to create a file to save our new data to it\n",
        "f = open('data/wuzzuf.csv','w')\n",
        "headers = \"Job_Ttile, Company_Name, Job_Type\\n\"\n",
        "f.write(headers)\n",
        "\n",
        "# Now we will get ALL the needed data from the web page\n",
        "for container in containers:\n",
        "    jtitle = container.findAll(\"h2\", {\"class\": \"css-m604qf\"})\n",
        "    job_title = jtitle[0].text.strip()\n",
        "\n",
        "    cname = container.findAll(\"a\", {\"class\": \"css-17s97q8\"})\n",
        "    company_name = cname[0].text.strip()\n",
        "\n",
        "    jtype = container.findAll(\"a\", {\"class\": \"css-n2jc4m\"})\n",
        "    job_type = jtype[0].text.strip()\n",
        "\n",
        "#     print(job_title)\n",
        "#     print(company_name)\n",
        "#     print(job_type)\n",
        "#     print()\n",
        "\n",
        "    print(job_title + \", \" + company_name + \", \" + job_type)\n",
        "    f.write(job_title + \", \" + company_name + \", \" + job_type + \"\\n\")\n",
        "\n",
        "f.close()"
      ]
    },
    {
      "cell_type": "code",
      "execution_count": null,
      "metadata": {
        "id": "M9G8_ZKTj9u_"
      },
      "outputs": [],
      "source": []
    },
    {
      "cell_type": "markdown",
      "metadata": {
        "id": "hsPk4_ldj9u_"
      },
      "source": [
        "##### Inputting the File into Pandas"
      ]
    },
    {
      "cell_type": "code",
      "execution_count": null,
      "metadata": {
        "id": "YLTCfbz6j9u_"
      },
      "outputs": [],
      "source": [
        "wuzzuf = pd.read_csv('data/wuzzuf.csv')\n",
        "wuzzuf"
      ]
    },
    {
      "cell_type": "code",
      "execution_count": null,
      "metadata": {
        "id": "dnnJ-aAFj9u_"
      },
      "outputs": [],
      "source": []
    },
    {
      "cell_type": "markdown",
      "metadata": {
        "id": "WbmqnoBhj9u_"
      },
      "source": [
        "=========="
      ]
    },
    {
      "cell_type": "markdown",
      "metadata": {
        "id": "aiBnR3bdj9u_"
      },
      "source": [
        "# THANK YOU!"
      ]
    }
  ],
  "metadata": {
    "kernelspec": {
      "display_name": "Python 3",
      "language": "python",
      "name": "python3"
    },
    "language_info": {
      "codemirror_mode": {
        "name": "ipython",
        "version": 3
      },
      "file_extension": ".py",
      "mimetype": "text/x-python",
      "name": "python",
      "nbconvert_exporter": "python",
      "pygments_lexer": "ipython3",
      "version": "3.8.3"
    },
    "colab": {
      "provenance": [],
      "include_colab_link": true
    }
  },
  "nbformat": 4,
  "nbformat_minor": 0
}