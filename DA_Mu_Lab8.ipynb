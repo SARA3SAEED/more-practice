{
  "cells": [
    {
      "cell_type": "markdown",
      "metadata": {
        "id": "view-in-github",
        "colab_type": "text"
      },
      "source": [
        "<a href=\"https://colab.research.google.com/github/SARA3SAEED/more-practice/blob/main/DA_Mu_Lab8.ipynb\" target=\"_parent\"><img src=\"https://colab.research.google.com/assets/colab-badge.svg\" alt=\"Open In Colab\"/></a>"
      ]
    },
    {
      "cell_type": "markdown",
      "metadata": {
        "id": "lKyuwh6cm9Sm"
      },
      "source": [
        "# Introduction to Python Programming, Gowrishankar & Veena (2018)"
      ]
    },
    {
      "cell_type": "markdown",
      "metadata": {
        "id": "t6UJo5mLm9So"
      },
      "source": [
        "## Chapter(4) Programming Exercises - Functions"
      ]
    },
    {
      "cell_type": "markdown",
      "metadata": {
        "id": "fWHZ70ssm9Sp"
      },
      "source": [
        "### 9. Write a program using functions to perform the arithmetic operations."
      ]
    },
    {
      "cell_type": "code",
      "execution_count": null,
      "metadata": {
        "colab": {
          "base_uri": "https://localhost:8080/"
        },
        "id": "UnIwf-gum9Sp",
        "outputId": "0f092595-36b8-41d4-bcff-a65972d18c48"
      },
      "outputs": [
        {
          "output_type": "stream",
          "name": "stdout",
          "text": [
            "Enter the first number: 2\n",
            "Enter the second number: 4\n",
            "Select an operation:\n",
            "1. Add\n",
            "2. Subtract\n",
            "3. Multiply\n",
            "4. Divide\n",
            "Enter your choice (1/2/3/4): 1\n",
            "Result: 6.0\n"
          ]
        }
      ],
      "source": [
        "# Define functions for arithmetic operations\n",
        "def add(a, b):\n",
        "    return a + b\n",
        "\n",
        "def subtract(a, b):\n",
        "    return a - b\n",
        "\n",
        "def multiply(a, b):\n",
        "    return a * b\n",
        "\n",
        "def divide(a, b):\n",
        "    if b != 0:\n",
        "        return a / b\n",
        "    else:\n",
        "        return \"Error! Division by zero.\"\n",
        "\n",
        "# Main program to take user input and call the appropriate function\n",
        "def main():\n",
        "    # Get user input\n",
        "    num1 = float(input(\"Enter the first number: \"))\n",
        "    num2 = float(input(\"Enter the second number: \"))\n",
        "\n",
        "    # Display available operations\n",
        "    print(\"Select an operation:\")\n",
        "    print(\"1. Add\")\n",
        "    print(\"2. Subtract\")\n",
        "    print(\"3. Multiply\")\n",
        "    print(\"4. Divide\")\n",
        "\n",
        "    # Get user's choice\n",
        "    choice = input(\"Enter your choice (1/2/3/4): \")\n",
        "\n",
        "    # Perform the chosen operation\n",
        "    if choice == '1':\n",
        "        print(f\"Result: {add(num1, num2)}\")\n",
        "    elif choice == '2':\n",
        "        print(f\"Result: {subtract(num1, num2)}\")\n",
        "    elif choice == '3':\n",
        "        print(f\"Result: {multiply(num1, num2)}\")\n",
        "    elif choice == '4':\n",
        "        print(f\"Result: {divide(num1, num2)}\")\n",
        "    else:\n",
        "        print(\"Invalid choice! Please select a valid operation.\")\n",
        "\n",
        "# Call the main function to run the program\n",
        "main()\n",
        "\n"
      ]
    },
    {
      "cell_type": "markdown",
      "metadata": {
        "id": "aUPIkeOom9Sq"
      },
      "source": [
        "### 10. Write a program to find the largest of three numbers using functions."
      ]
    },
    {
      "cell_type": "code",
      "execution_count": null,
      "metadata": {
        "colab": {
          "base_uri": "https://localhost:8080/"
        },
        "id": "soxgKOGKm9Sq",
        "outputId": "828fff48-205a-46c1-f396-ec84e8071219"
      },
      "outputs": [
        {
          "output_type": "stream",
          "name": "stdout",
          "text": [
            "enter the 1 number2\n",
            "enter the 2 number3\n",
            "enter the 3 number4\n",
            "the largest is: 4\n"
          ]
        }
      ],
      "source": [
        "def largest(n1,n2,n3):\n",
        "  if (n1 > n2 and n1 > n3):\n",
        "    print(\"the largest :\", n1)\n",
        "  elif (n2 > n3 and n2 > n1):\n",
        "    print(\"the largest is :\", n2)\n",
        "  elif (n3 > n1 and n3 > n2):\n",
        "    print(\"the largest is:\", n3)\n",
        "\n",
        "n1=int(input(\"enter the 1 number\"))\n",
        "n2=int(input(\"enter the 2 number\"))\n",
        "n3=int(input(\"enter the 3 number\"))\n",
        "\n",
        "largest(n1,n2,n3)"
      ]
    },
    {
      "cell_type": "code",
      "execution_count": null,
      "metadata": {
        "id": "u_6hxR5gm9Sq"
      },
      "outputs": [],
      "source": []
    },
    {
      "cell_type": "markdown",
      "metadata": {
        "id": "l3SoTMsem9Sq"
      },
      "source": [
        "### 11. Write a Python program using functions to find the value of nPr and nCr"
      ]
    },
    {
      "cell_type": "code",
      "execution_count": 2,
      "metadata": {
        "id": "Bpmd1XG3m9Sr",
        "colab": {
          "base_uri": "https://localhost:8080/"
        },
        "outputId": "22520069-b757-4d03-c831-fa2ed914d044"
      },
      "outputs": [
        {
          "output_type": "stream",
          "name": "stdout",
          "text": [
            "Enter the value of n: 3\n",
            "Enter the value of r: 2\n",
            "nPr(3, 2) = 6\n",
            "nCr(3, 2) = 3\n"
          ]
        }
      ],
      "source": [
        "import math\n",
        "\n",
        "# Function to calculate nPr\n",
        "def nPr(n, r):\n",
        "    return math.factorial(n) // math.factorial(n - r)\n",
        "\n",
        "# Function to calculate nCr\n",
        "def nCr(n, r):\n",
        "    return math.factorial(n) // (math.factorial(r) * math.factorial(n - r))\n",
        "\n",
        "\n",
        "n = int(input(\"Enter the value of n: \"))\n",
        "r = int(input(\"Enter the value of r: \"))\n",
        "\n",
        "print(f\"nPr({n}, {r}) = {nPr(n, r)}\")\n",
        "print(f\"nCr({n}, {r}) = {nCr(n, r)}\")\n"
      ]
    },
    {
      "cell_type": "markdown",
      "metadata": {
        "id": "qeQKUNGim9Sr"
      },
      "source": [
        "### 12. Write a Python function named area that finds the area of a pentagon."
      ]
    },
    {
      "cell_type": "code",
      "execution_count": 1,
      "metadata": {
        "id": "MzOJpwwTm9Ss",
        "colab": {
          "base_uri": "https://localhost:8080/"
        },
        "outputId": "359d0c78-6b90-4362-f663-ce276f386b98"
      },
      "outputs": [
        {
          "name": "stdout",
          "output_type": "stream",
          "text": [
            "enter the length100\n",
            "enter the width200\n"
          ]
        },
        {
          "output_type": "execute_result",
          "data": {
            "text/plain": [
              "20000"
            ]
          },
          "metadata": {},
          "execution_count": 1
        }
      ],
      "source": [
        "def area(l,w):\n",
        "    return l*w\n",
        "\n",
        "l=int(input(\"enter the length\"))\n",
        "w=int(input(\"enter the width\"))\n",
        "\n",
        "area(l,w)"
      ]
    },
    {
      "cell_type": "markdown",
      "metadata": {
        "id": "wlYQmVqBm9Ss"
      },
      "source": [
        "### 13. Write a program using functions to display Pascal’s triangle."
      ]
    },
    {
      "cell_type": "code",
      "execution_count": 9,
      "metadata": {
        "id": "MaT1Qlq_m9Ss",
        "colab": {
          "base_uri": "https://localhost:8080/"
        },
        "outputId": "a62b9dbd-14de-4d7d-f618-9b5477cf3859"
      },
      "outputs": [
        {
          "output_type": "stream",
          "name": "stdout",
          "text": [
            "Enter the number of rows: 4\n",
            "0 \n",
            "0 1 \n",
            "0 1 2 \n",
            "0 1 2 3 \n"
          ]
        }
      ],
      "source": [
        "def print_pascal_triangle(n):\n",
        "    for i in range(n):\n",
        "      for j in range(i+1):\n",
        "        print(j, end=\" \")\n",
        "      print()\n",
        "\n",
        "n = int(input(\"Enter the number of rows: \"))\n",
        "print_pascal_triangle(n)"
      ]
    },
    {
      "cell_type": "markdown",
      "metadata": {
        "id": "oGOXxwxSm9Ss"
      },
      "source": [
        "### 14. Write a program using functions to print harmonic progression series and its sum till N terms."
      ]
    },
    {
      "cell_type": "code",
      "execution_count": 11,
      "metadata": {
        "id": "9d_LoORXm9St",
        "colab": {
          "base_uri": "https://localhost:8080/"
        },
        "outputId": "af0d8867-f850-4bcf-947a-fd16997598bb"
      },
      "outputs": [
        {
          "output_type": "stream",
          "name": "stdout",
          "text": [
            "Enter the first term of the AP (corresponding to the HP): 3\n",
            "Enter the common difference of the AP: 2\n",
            "Enter the number of terms (N): 2\n",
            "0.3333\n",
            " 0.2000\n",
            " \n",
            "Sum of the Harmonic Progression till 2 terms: 0.5333\n"
          ]
        }
      ],
      "source": [
        "def sum_harmonic_progression(a, d, N):\n",
        "    total_sum = 0\n",
        "    for i in range(N):\n",
        "        term = 1 / (a + i * d)\n",
        "        total_sum += term\n",
        "        print(f\"{term:.4f}\", end=\"\\n \")\n",
        "    print()\n",
        "    return total_sum\n",
        "\n",
        "a = float(input(\"Enter the first term of the AP (corresponding to the HP): \"))\n",
        "d = float(input(\"Enter the common difference of the AP: \"))\n",
        "N = int(input(\"Enter the number of terms (N): \"))\n",
        "\n",
        "hp_sum = sum_harmonic_progression(a, d, N)\n",
        "print(f\"Sum of the Harmonic Progression till {N} terms: {hp_sum:.4f}\")"
      ]
    },
    {
      "cell_type": "markdown",
      "metadata": {
        "id": "XYqL0GMRm9St"
      },
      "source": [
        "### 15. Write a program using functions to do the following tasks:\n",
        "- a. Convert milliseconds to hours, minutes and seconds.\n",
        "- b. Compute a sales commission, given the sales amount and the commission rate.\n",
        "- c. Convert Celsius to Fahrenheit.\n",
        "- d. Compute the monthly payment, given the loan amount, number of years and the annual interest rate."
      ]
    },
    {
      "cell_type": "code",
      "execution_count": 16,
      "metadata": {
        "id": "fKe4YEwqm9St",
        "colab": {
          "base_uri": "https://localhost:8080/"
        },
        "outputId": "ffbc8a0f-abff-43d2-99cd-dab5ceefe591"
      },
      "outputs": [
        {
          "output_type": "stream",
          "name": "stdout",
          "text": [
            "1. Convert milliseconds to hours, minutes and seconds.\n",
            "2. Compute a sales commission, given the sales amount and the commission rate.\n",
            "3. Convert Celsius to Fahrenheit.\n",
            "4. Compute the monthly payment, given the loan amount, number of years and the annual interest rate.\n",
            "Enter your choice: 4\n",
            "Enter the loan amount: 40000\n",
            "Enter the number of years: 4\n",
            "Enter the annual interest rate: .02\n",
            "Monthly Payment: 833.67\n"
          ]
        }
      ],
      "source": [
        "print(\"1. Convert milliseconds to hours, minutes and seconds.\")\n",
        "print(\"2. Compute a sales commission, given the sales amount and the commission rate.\")\n",
        "print(\"3. Convert Celsius to Fahrenheit.\")\n",
        "print(\"4. Compute the monthly payment, given the loan amount, number of years and the annual interest rate.\")\n",
        "choice = int(input(\"Enter your choice: \"))\n",
        "\n",
        "def task(choice):\n",
        "  if choice == 1:\n",
        "    milliseconds = int(input(\"Enter the milliseconds: \"))\n",
        "    seconds = milliseconds // 1000\n",
        "    minutes = seconds // 60\n",
        "    hours = minutes // 60\n",
        "    # seconds %= 60\n",
        "    # minutes %= 6\n",
        "    print(f\"{hours} hours, {minutes} minutes, {seconds} seconds\")\n",
        "\n",
        "  elif choice == 2:\n",
        "    sales_amount = float(input(\"Enter the sales amount: \"))\n",
        "    commission_rate = float(input(\"Enter the commission rate: \"))\n",
        "    commission = sales_amount * commission_rate / 100\n",
        "    print(f\"Commission: {commission}\")\n",
        "\n",
        "  elif choice == 3:\n",
        "    celsius = float(input(\"Enter the temperature in Celsius: \"))\n",
        "    fahrenheit = (celsius * 9/5) + 32\n",
        "    print(f\"Temperature in Fahrenheit: {fahrenheit}\")\n",
        "\n",
        "  elif choice == 4:\n",
        "    loan_amount = float(input(\"Enter the loan amount: \"))\n",
        "    years = float(input(\"Enter the number of years: \"))\n",
        "    annual_interest_rate = float(input(\"Enter the annual interest rate: \"))\n",
        "    monthly_interest_rate = annual_interest_rate / 12 / 100\n",
        "    months = years * 12\n",
        "    if monthly_interest_rate == 0:\n",
        "        monthly_payment = loan_amount / months\n",
        "    else:\n",
        "        monthly_payment = loan_amount * monthly_interest_rate / (1 - (1 + monthly_interest_rate) ** -months)\n",
        "    print(f\"Monthly Payment: {monthly_payment:.2f}\")\n",
        "\n",
        "task(choice)\n",
        "\n",
        "\n"
      ]
    },
    {
      "cell_type": "markdown",
      "metadata": {
        "id": "ihXYiVq2m9Su"
      },
      "source": [
        "=========="
      ]
    },
    {
      "cell_type": "markdown",
      "metadata": {
        "id": "R0WBNfAxm9Su"
      },
      "source": [
        "## Chapter(5) Programming Exercises - Strings"
      ]
    },
    {
      "cell_type": "markdown",
      "metadata": {
        "id": "Vs_Urm42m9Su"
      },
      "source": [
        "### 11. Write a function that takes a string as an argument and displays the letters backward, one per line."
      ]
    },
    {
      "cell_type": "code",
      "execution_count": 18,
      "metadata": {
        "id": "imhrSejdm9Su",
        "colab": {
          "base_uri": "https://localhost:8080/"
        },
        "outputId": "a613caeb-79ed-4652-fed3-0ccaa44b2107"
      },
      "outputs": [
        {
          "output_type": "stream",
          "name": "stdout",
          "text": [
            "Enter a string: sara\n",
            "a r a s \n"
          ]
        }
      ],
      "source": [
        "def reverse_string(input_string):\n",
        "    reversed_string = \"\"\n",
        "    for i in range(len(input_string) - 1, -1, -1):\n",
        "        reversed_string += input_string[i] + \" \"\n",
        "    return reversed_string\n",
        "\n",
        "input_string = input(\"Enter a string: \")\n",
        "reversed_output = reverse_string(input_string)\n",
        "print(reversed_output)"
      ]
    },
    {
      "cell_type": "code",
      "source": [
        "def display_backward(string):\n",
        "    for char in reversed(string):\n",
        "        print(char , end= ' ')\n",
        "\n",
        "user_input = input(\"Enter a string: \")\n",
        "display_backward(user_input)\n"
      ],
      "metadata": {
        "colab": {
          "base_uri": "https://localhost:8080/"
        },
        "id": "2G-KtD2ZHe_0",
        "outputId": "401b5f7a-1803-44a9-83fe-66b5866df955"
      },
      "execution_count": 21,
      "outputs": [
        {
          "output_type": "stream",
          "name": "stdout",
          "text": [
            "Enter a string: sara\n",
            "a r a s "
          ]
        }
      ]
    },
    {
      "cell_type": "markdown",
      "metadata": {
        "id": "M_AQ4LNvm9Sv"
      },
      "source": [
        "### 12. Write a Python program to access the last character of the string with the help of len() function."
      ]
    },
    {
      "cell_type": "code",
      "execution_count": 22,
      "metadata": {
        "id": "Dx2Nhs29m9Sv",
        "colab": {
          "base_uri": "https://localhost:8080/",
          "height": 54
        },
        "outputId": "a9d70319-69b2-475b-c804-e7841908447b"
      },
      "outputs": [
        {
          "name": "stdout",
          "output_type": "stream",
          "text": [
            "Enter a string: sara\n"
          ]
        },
        {
          "output_type": "execute_result",
          "data": {
            "text/plain": [
              "'a'"
            ],
            "application/vnd.google.colaboratory.intrinsic+json": {
              "type": "string"
            }
          },
          "metadata": {},
          "execution_count": 22
        }
      ],
      "source": [
        "def last_char(string):\n",
        "    return string[len(string)-1]\n",
        "\n",
        "user_input = input(\"Enter a string: \")\n",
        "last_char(user_input)"
      ]
    },
    {
      "cell_type": "markdown",
      "metadata": {
        "id": "jw-acGO7m9Sv"
      },
      "source": [
        "### 13. Ask the user for a string, and then for a number. Print out that string, that many times. (For example, if the string is Python and the number is 3 you should print out PythonPythonPython.)"
      ]
    },
    {
      "cell_type": "code",
      "execution_count": 24,
      "metadata": {
        "id": "jKrlkyeym9Sv",
        "colab": {
          "base_uri": "https://localhost:8080/"
        },
        "outputId": "f58f0173-ed1a-406a-e6e4-e89574be67f4"
      },
      "outputs": [
        {
          "output_type": "stream",
          "name": "stdout",
          "text": [
            "Enter a string: sara\n",
            "Enter a number: 3\n",
            "sarasarasara"
          ]
        }
      ],
      "source": [
        "def print_string(string, number):\n",
        "    for i in range(number):\n",
        "        print(string, end='')\n",
        "\n",
        "user_input = input(\"Enter a string: \")\n",
        "number = int(input(\"Enter a number: \"))\n",
        "print_string(user_input, number)"
      ]
    },
    {
      "cell_type": "markdown",
      "metadata": {
        "id": "w3ClbJeom9Sv"
      },
      "source": [
        "### 14. Write a program that reads the date in the format (dd/mm/yyyy) and replaces the ‘/’ with a ‘-’ and displays the date in (dd-mm-yyyy) format."
      ]
    },
    {
      "cell_type": "code",
      "execution_count": 25,
      "metadata": {
        "id": "fyfbtnCNm9Sv",
        "colab": {
          "base_uri": "https://localhost:8080/"
        },
        "outputId": "affb89ae-0bc0-4bdd-d80c-5c70589e81c9"
      },
      "outputs": [
        {
          "output_type": "stream",
          "name": "stdout",
          "text": [
            "Enter a date in the format (dd/mm/yyyy): 05/05/1992\n",
            "05-05-1992\n"
          ]
        }
      ],
      "source": [
        "date = input(\"Enter a date in the format (dd/mm/yyyy): \")\n",
        "new_date = date.replace(\"/\", \"-\")\n",
        "print(new_date)"
      ]
    },
    {
      "cell_type": "markdown",
      "metadata": {
        "id": "7bH1ZJJCm9Sv"
      },
      "source": [
        "### 15. Write a function that finds the number of occurrences of a specified character in a string."
      ]
    },
    {
      "cell_type": "code",
      "execution_count": 26,
      "metadata": {
        "id": "X0NdDkwMm9Sw",
        "colab": {
          "base_uri": "https://localhost:8080/"
        },
        "outputId": "534ba599-7311-4856-dc7b-0e5c3bafdd93"
      },
      "outputs": [
        {
          "name": "stdout",
          "output_type": "stream",
          "text": [
            "Enter a character: s\n",
            "Enter a string: sara\n"
          ]
        },
        {
          "output_type": "execute_result",
          "data": {
            "text/plain": [
              "1"
            ]
          },
          "metadata": {},
          "execution_count": 26
        }
      ],
      "source": [
        "char = input(\"Enter a character: \")\n",
        "string = input(\"Enter a string: \")\n",
        "\n",
        "def count_char(char, string):\n",
        "    count = 0\n",
        "    for c in string:\n",
        "        if c == char:\n",
        "            count += 1\n",
        "    return count\n",
        "\n",
        "count_char(char, string)"
      ]
    },
    {
      "cell_type": "code",
      "execution_count": null,
      "metadata": {
        "id": "kr5ERcRmm9Sw"
      },
      "outputs": [],
      "source": []
    },
    {
      "cell_type": "markdown",
      "metadata": {
        "id": "uklnVtsum9Sw"
      },
      "source": [
        "### 16. Write a program that parses a binary number to a decimal integer. For example, 11001 (1 * $2^{4}$ + 1 * $2^{3}$ + 0 * $2^{2}$ + 0 * $2^{1}$ + 1 * $2^{0}$)."
      ]
    },
    {
      "cell_type": "code",
      "execution_count": 29,
      "metadata": {
        "id": "JvUyU-Jcm9Sw",
        "colab": {
          "base_uri": "https://localhost:8080/"
        },
        "outputId": "c7fd9d6b-d364-40e5-8455-bddb17125f56"
      },
      "outputs": [
        {
          "output_type": "stream",
          "name": "stdout",
          "text": [
            "Enter a binary number: 1101\n",
            "13\n"
          ]
        }
      ],
      "source": [
        "binary = input(\"Enter a binary number: \")\n",
        "decimal = 0\n",
        "for i in range(len(binary)):\n",
        "    decimal += int(binary[i]) * (2 ** (len(binary) - i - 1))\n",
        "print(decimal)"
      ]
    },
    {
      "cell_type": "markdown",
      "metadata": {
        "id": "_aJB8C3um9Sw"
      },
      "source": [
        "### 18. Write a program that accepts a string from the user and display the same string after removing vowels from it."
      ]
    },
    {
      "cell_type": "code",
      "execution_count": 30,
      "metadata": {
        "id": "cSKpjqc0m9Sw",
        "colab": {
          "base_uri": "https://localhost:8080/"
        },
        "outputId": "9521c137-42ba-44e7-fed3-23d9e443eff8"
      },
      "outputs": [
        {
          "output_type": "stream",
          "name": "stdout",
          "text": [
            "Enter a string: sara\n",
            "sr\n"
          ]
        }
      ],
      "source": [
        "def remove_vowels(string):\n",
        "    vowels = \"aeiouAEIOU\"\n",
        "    new_string = \"\"\n",
        "    for char in string:\n",
        "        if char not in vowels:\n",
        "            new_string += char\n",
        "    return new_string\n",
        "\n",
        "user_input = input(\"Enter a string: \")\n",
        "result = remove_vowels(user_input)\n",
        "print(result)"
      ]
    },
    {
      "cell_type": "markdown",
      "metadata": {
        "id": "RqfXA8Fbm9Sw"
      },
      "source": [
        "### 19. Write a function to insert a string in the middle of the string."
      ]
    },
    {
      "cell_type": "code",
      "execution_count": 31,
      "metadata": {
        "id": "O67K_1Twm9Sw",
        "colab": {
          "base_uri": "https://localhost:8080/"
        },
        "outputId": "c65f4811-4c59-4e2f-d6ec-a4f8da6c85bc"
      },
      "outputs": [
        {
          "output_type": "stream",
          "name": "stdout",
          "text": [
            "HeWorldllo\n"
          ]
        }
      ],
      "source": [
        "def insert_string(string, new_string):\n",
        "    middle = len(string) // 2\n",
        "    return string[:middle] + new_string + string[middle:]\n",
        "\n",
        "\n",
        "print(insert_string(\"Hello\", \"World\"))"
      ]
    },
    {
      "cell_type": "markdown",
      "metadata": {
        "id": "zKNsb4m5m9Sx"
      },
      "source": [
        "### 20. Write a program to sort a string lexicographically"
      ]
    },
    {
      "cell_type": "code",
      "execution_count": 32,
      "metadata": {
        "id": "mkrxRgwcm9Sx",
        "colab": {
          "base_uri": "https://localhost:8080/"
        },
        "outputId": "9a6386a1-10ed-4dd4-df01-39c6d85c8154"
      },
      "outputs": [
        {
          "output_type": "stream",
          "name": "stdout",
          "text": [
            "Enter a string: sara\n",
            "aars\n"
          ]
        }
      ],
      "source": [
        "def sort_string(string):\n",
        "    return ''.join(sorted(string))\n",
        "\n",
        "user_input = input(\"Enter a string: \")\n",
        "sorted_string = sort_string(user_input)\n",
        "print(sorted_string)"
      ]
    },
    {
      "cell_type": "markdown",
      "metadata": {
        "id": "Ertz7PdPm9Sx"
      },
      "source": [
        "### 21. Write a program to replace a string with another string without using built-in methods."
      ]
    },
    {
      "cell_type": "code",
      "execution_count": 38,
      "metadata": {
        "id": "-2ZgAGyxm9Sx",
        "colab": {
          "base_uri": "https://localhost:8080/"
        },
        "outputId": "2cf47815-7085-4c7e-e7f4-45d27d9908fe"
      },
      "outputs": [
        {
          "output_type": "stream",
          "name": "stdout",
          "text": [
            "Enter a string: hello sara saeed\n",
            "Enter the string to replace: sara\n",
            "Enter the new string: maram\n",
            "hello maram saeed\n"
          ]
        }
      ],
      "source": [
        "def replace_string(string, old_string, new_string):\n",
        "    result = \"\"\n",
        "    index = 0\n",
        "    while index < len(string):\n",
        "        if string[index:index+len(old_string)] == old_string:\n",
        "            result += new_string\n",
        "            index += len(old_string)\n",
        "        else:\n",
        "            result += string[index]\n",
        "            index += 1\n",
        "    return result\n",
        "\n",
        "user_input = input(\"Enter a string: \")\n",
        "old_string = input(\"Enter the string to replace: \")\n",
        "new_string = input(\"Enter the new string: \")\n",
        "result = replace_string(user_input, old_string, new_string)\n",
        "print(result)"
      ]
    },
    {
      "cell_type": "code",
      "source": [
        "def replace_string(original, target, replacement):\n",
        "    result = \"\"\n",
        "    i = 0\n",
        "    while i < len(original):\n",
        "\n",
        "        if original[i:i+len(target)] == target:\n",
        "            result += replacement\n",
        "            i += len(target)\n",
        "        else:\n",
        "            result += original[i]\n",
        "            i += 1\n",
        "    return result\n",
        "\n",
        "original_string = input(\"Enter the original string: \")\n",
        "target_string = input(\"Enter the string to be replaced: \")\n",
        "replacement_string = input(\"Enter the replacement string: \")\n",
        "\n",
        "new_string = replace_string(original_string, target_string, replacement_string)\n",
        "print(\"Modified string:\", new_string)\n"
      ],
      "metadata": {
        "colab": {
          "base_uri": "https://localhost:8080/"
        },
        "id": "F4YaZHBrRdkj",
        "outputId": "9a1b915f-2371-49b3-ae36-913b3a75d722"
      },
      "execution_count": 37,
      "outputs": [
        {
          "output_type": "stream",
          "name": "stdout",
          "text": [
            "Enter the original string: hello sara saeed\n",
            "Enter the string to be replaced: sara\n",
            "Enter the replacement string: maram\n",
            "Modified string: hello maram saeed\n"
          ]
        }
      ]
    },
    {
      "cell_type": "markdown",
      "metadata": {
        "id": "qxLX6IySm9Sx"
      },
      "source": [
        "### 22. Write a program to concatenate two strings into another string without using the + operator."
      ]
    },
    {
      "cell_type": "code",
      "execution_count": 40,
      "metadata": {
        "id": "pFKmalQkm9Sx",
        "colab": {
          "base_uri": "https://localhost:8080/"
        },
        "outputId": "5d12ad3b-d990-4b6a-928f-39427802afee"
      },
      "outputs": [
        {
          "output_type": "stream",
          "name": "stdout",
          "text": [
            "Concatenated string: helloworld\n"
          ]
        }
      ],
      "source": [
        "def concatenate_strings(str1, str2):\n",
        "    list1 = list(str1)\n",
        "    list2 = list(str2)\n",
        "\n",
        "    for char in list2:\n",
        "        list1.append(char)\n",
        "\n",
        "    result = ''.join(list1)\n",
        "\n",
        "    return result\n",
        "\n",
        "x = 'hello'\n",
        "y = 'world'\n",
        "\n",
        "concatenated_string = concatenate_strings(x, y)\n",
        "print(\"Concatenated string:\", concatenated_string)\n"
      ]
    },
    {
      "cell_type": "markdown",
      "metadata": {
        "id": "yNtXBnJ5m9Sx"
      },
      "source": [
        "### 23. Write a program to strip a set of characters from a string."
      ]
    },
    {
      "cell_type": "code",
      "execution_count": 43,
      "metadata": {
        "id": "C8PAWquOm9Sy",
        "colab": {
          "base_uri": "https://localhost:8080/"
        },
        "outputId": "3ce535ee-9332-483d-afb8-423e367d699e"
      },
      "outputs": [
        {
          "output_type": "stream",
          "name": "stdout",
          "text": [
            "Enter a string: sarah\n",
            "Enter the characters to strip: a\n",
            "srh\n"
          ]
        }
      ],
      "source": [
        "def strip_characters(string, characters):\n",
        "    for char in characters:\n",
        "        string = string.replace(char, '')\n",
        "    return string\n",
        "\n",
        "user_input = input(\"Enter a string: \")\n",
        "characters_to_strip = input(\"Enter the characters to strip: \")\n",
        "result = strip_characters(user_input, characters_to_strip)\n",
        "print(result)"
      ]
    },
    {
      "cell_type": "markdown",
      "metadata": {
        "id": "-Yc17rzFm9Sy"
      },
      "source": [
        "### 24. Write a program to extract the first n characters of a string."
      ]
    },
    {
      "cell_type": "code",
      "execution_count": 44,
      "metadata": {
        "id": "WokEDyNkm9Sy",
        "colab": {
          "base_uri": "https://localhost:8080/"
        },
        "outputId": "11a31331-41d1-443c-a4df-4085c80f6d2a"
      },
      "outputs": [
        {
          "output_type": "stream",
          "name": "stdout",
          "text": [
            "Enter a string: sarah\n",
            "Enter the value of n: 3\n",
            "sar\n"
          ]
        }
      ],
      "source": [
        "def extract_first_n_characters(string, n):\n",
        "    return string[:n]\n",
        "\n",
        "user_input = input(\"Enter a string: \")\n",
        "n = int(input(\"Enter the value of n: \"))\n",
        "result = extract_first_n_characters(user_input, n)\n",
        "print(result)"
      ]
    },
    {
      "cell_type": "code",
      "execution_count": null,
      "metadata": {
        "id": "zrYzVb10m9Sy"
      },
      "outputs": [],
      "source": []
    },
    {
      "cell_type": "markdown",
      "metadata": {
        "id": "X8BHMjBMm9Sy"
      },
      "source": [
        "=========="
      ]
    },
    {
      "cell_type": "markdown",
      "metadata": {
        "id": "ink_pMOJm9Sy"
      },
      "source": [
        "## Chapter(6) Programming Exercises - Lists"
      ]
    },
    {
      "cell_type": "markdown",
      "metadata": {
        "id": "14-NhImWm9Sy"
      },
      "source": [
        "### 7. Write a program that creates a list of 10 random integers. Then create two lists by name odd_list and even_list that have all odd and even values of the list respectively."
      ]
    },
    {
      "cell_type": "code",
      "execution_count": 59,
      "metadata": {
        "id": "DwRaww-Xm9Sy",
        "colab": {
          "base_uri": "https://localhost:8080/"
        },
        "outputId": "b23e0b4d-55b9-4a71-c277-fafa5ef897d4"
      },
      "outputs": [
        {
          "output_type": "stream",
          "name": "stdout",
          "text": [
            "[2, 4, 6, 8, 10]\n",
            "[1, 3, 5, 7, 9]\n"
          ]
        }
      ],
      "source": [
        "list1 = [1,2,3,4,5,6,7,8,9,10]\n",
        "odd_list = []\n",
        "even_list = []\n",
        "\n",
        "\n",
        "for i in list1:\n",
        "  if i % 2 == 0:\n",
        "    even_list.append(i)\n",
        "  else:\n",
        "    odd_list.append(i)\n",
        "\n",
        "print(even_list)\n",
        "print(odd_list)"
      ]
    },
    {
      "cell_type": "markdown",
      "metadata": {
        "id": "vTxw0Gchm9Sy"
      },
      "source": [
        "### 8. Write a program to sort the elements in ascending order using insertion sort."
      ]
    },
    {
      "cell_type": "code",
      "execution_count": 60,
      "metadata": {
        "id": "QketdN6lm9Sz",
        "colab": {
          "base_uri": "https://localhost:8080/"
        },
        "outputId": "464662d7-ff4d-4cf0-e2c9-ea77e3010be8"
      },
      "outputs": [
        {
          "output_type": "execute_result",
          "data": {
            "text/plain": [
              "[10, 9, 8, 7, 6, 5, 4, 3, 2, 1]"
            ]
          },
          "metadata": {},
          "execution_count": 60
        }
      ],
      "source": [
        "list1.reverse()\n",
        "list1"
      ]
    },
    {
      "cell_type": "markdown",
      "metadata": {
        "id": "EswKALTzm9Sz"
      },
      "source": [
        "### 9. Write a Python program to use binary search to find the key element in the list."
      ]
    },
    {
      "cell_type": "code",
      "source": [
        "def binary_search(arr, target):\n",
        "    low = 0\n",
        "    high = len(arr) - 1\n",
        "\n",
        "    while low <= high:\n",
        "        mid = (low + high) // 2\n",
        "        if arr[mid] == target:\n",
        "            return mid\n",
        "        elif arr[mid] < target:\n",
        "            low = mid + 1\n",
        "        else:\n",
        "            high = mid - 1  # Fix: Update high correctly\n",
        "\n",
        "    return -1  # Target not found\n",
        "\n",
        "# Example usage\n",
        "list1 = [1, 3, 5, 7, 9, 11]\n",
        "target = 5\n",
        "result = binary_search(list1, target)\n",
        "\n",
        "if result != -1:\n",
        "    print(f\"Element {target} found at index {result}.\")\n",
        "else:\n",
        "    print(f\"Element {target} not found in the list.\")\n"
      ],
      "metadata": {
        "colab": {
          "base_uri": "https://localhost:8080/"
        },
        "id": "5ES0aBekXBhe",
        "outputId": "ace92a40-06e8-44be-9d91-42edfab9c65d"
      },
      "execution_count": 69,
      "outputs": [
        {
          "output_type": "stream",
          "name": "stdout",
          "text": [
            "Element 5 found at index 2.\n"
          ]
        }
      ]
    },
    {
      "cell_type": "markdown",
      "metadata": {
        "id": "8nPkx7kRm9Sz"
      },
      "source": [
        "### 11. Write a program to sort the elements in ascending order using selection\n",
        "\n",
        "1.   List item\n",
        "2.   List item\n",
        "\n",
        "sort."
      ]
    },
    {
      "cell_type": "code",
      "execution_count": null,
      "metadata": {
        "id": "TH6Hb2SYm9Sz"
      },
      "outputs": [],
      "source": []
    },
    {
      "cell_type": "markdown",
      "metadata": {
        "id": "EFPncyR0m9Sz"
      },
      "source": [
        "### 12. Write a program that prints the maximum value of the second half of the list."
      ]
    },
    {
      "cell_type": "code",
      "execution_count": 71,
      "metadata": {
        "id": "2nthkbgZm9Sz",
        "colab": {
          "base_uri": "https://localhost:8080/"
        },
        "outputId": "e31a2cb1-340c-4e07-f39e-eb801da3325f"
      },
      "outputs": [
        {
          "output_type": "execute_result",
          "data": {
            "text/plain": [
              "10"
            ]
          },
          "metadata": {},
          "execution_count": 71
        }
      ],
      "source": [
        "list3= [1,2,3,50,5,6,7,8,9,10]\n",
        "max(list3[5:])"
      ]
    },
    {
      "cell_type": "markdown",
      "metadata": {
        "id": "PaWIvYPVm9Sz"
      },
      "source": [
        "### 13. Write a program that creates a list of numbers 1–100 that are either divisible by 5 or 6."
      ]
    },
    {
      "cell_type": "code",
      "source": [
        "list4 = [i for i in range(1,101) if i % 5 == 0 or i % 6 == 0]\n",
        "list4"
      ],
      "metadata": {
        "colab": {
          "base_uri": "https://localhost:8080/"
        },
        "id": "dNpNshrnauAQ",
        "outputId": "94190dac-e1a1-4b17-c1d6-56a5077c1321"
      },
      "execution_count": 72,
      "outputs": [
        {
          "output_type": "execute_result",
          "data": {
            "text/plain": [
              "[5,\n",
              " 6,\n",
              " 10,\n",
              " 12,\n",
              " 15,\n",
              " 18,\n",
              " 20,\n",
              " 24,\n",
              " 25,\n",
              " 30,\n",
              " 35,\n",
              " 36,\n",
              " 40,\n",
              " 42,\n",
              " 45,\n",
              " 48,\n",
              " 50,\n",
              " 54,\n",
              " 55,\n",
              " 60,\n",
              " 65,\n",
              " 66,\n",
              " 70,\n",
              " 72,\n",
              " 75,\n",
              " 78,\n",
              " 80,\n",
              " 84,\n",
              " 85,\n",
              " 90,\n",
              " 95,\n",
              " 96,\n",
              " 100]"
            ]
          },
          "metadata": {},
          "execution_count": 72
        }
      ]
    },
    {
      "cell_type": "markdown",
      "metadata": {
        "id": "JjNUnIMom9S0"
      },
      "source": [
        "### 14. Write a function that prompts the user to enter five numbers, then invoke a function to find the GCD of these numbers."
      ]
    },
    {
      "cell_type": "code",
      "source": [
        "def gcd(a, b):\n",
        "    while b != 0:\n",
        "        a, b = b, a % b\n",
        "    return a\n",
        "\n",
        "def find_gcd_of_list(numbers):\n",
        "    if not numbers:\n",
        "        return None\n",
        "\n",
        "    result = numbers[0]\n",
        "    for num in numbers[1:]:\n",
        "        result = gcd(result, num)\n",
        "    return result\n",
        "\n",
        "numbers = [int(input(\"Enter a number: \")) for _ in range(5)]\n",
        "result = find_gcd_of_list(numbers)\n",
        "print(f\"The GCD of the entered numbers is: {result}\")"
      ],
      "metadata": {
        "colab": {
          "base_uri": "https://localhost:8080/"
        },
        "id": "6NXnakbIbHf6",
        "outputId": "41cac70a-4107-43c4-ac5e-f9ac499d808d"
      },
      "execution_count": 75,
      "outputs": [
        {
          "output_type": "stream",
          "name": "stdout",
          "text": [
            "Enter a number: 48\n",
            "Enter a number: 72\n",
            "Enter a number: 108\n",
            "Enter a number: 60\n",
            "Enter a number: 24\n",
            "The GCD of the entered numbers is: 12\n"
          ]
        }
      ]
    },
    {
      "cell_type": "markdown",
      "metadata": {
        "id": "HLo-2_3Cm9S0"
      },
      "source": [
        "=========="
      ]
    },
    {
      "cell_type": "markdown",
      "metadata": {
        "id": "T1hEOzTSm9S0"
      },
      "source": [
        "## Chapter(7) Programming Exercises - Dictionaries"
      ]
    },
    {
      "cell_type": "markdown",
      "metadata": {
        "id": "WlIyI1sYm9S0"
      },
      "source": [
        "### 5. Write a function that prompts the user for the average temperature for each day of the week and returns a dictionary containing the entered information."
      ]
    },
    {
      "cell_type": "code",
      "execution_count": 76,
      "metadata": {
        "id": "km1BRgfIm9S0",
        "colab": {
          "base_uri": "https://localhost:8080/"
        },
        "outputId": "7a4496db-1ab6-4b04-d2ef-2a4b4a641b21"
      },
      "outputs": [
        {
          "output_type": "stream",
          "name": "stdout",
          "text": [
            "Enter the average temperature for Monday: 2\n",
            "Enter the average temperature for Tuesday: 3\n",
            "Enter the average temperature for Wednesday: 4\n",
            "Enter the average temperature for Thursday: 2\n",
            "Enter the average temperature for Friday: 3\n",
            "Enter the average temperature for Saturday: 4\n",
            "Enter the average temperature for Sunday: 2\n",
            "{'Monday': 2.0, 'Tuesday': 3.0, 'Wednesday': 4.0, 'Thursday': 2.0, 'Friday': 3.0, 'Saturday': 4.0, 'Sunday': 2.0}\n"
          ]
        }
      ],
      "source": [
        "def get_average_temperatures():\n",
        "    temperatures = {}\n",
        "    days = [\"Monday\", \"Tuesday\", \"Wednesday\", \"Thursday\", \"Friday\", \"Saturday\", \"Sunday\"]\n",
        "    for day in days:\n",
        "        temperature = float(input(f\"Enter the average temperature for {day}: \"))\n",
        "        temperatures[day] = temperature\n",
        "    return temperatures\n",
        "\n",
        "average_temperatures = get_average_temperatures()\n",
        "print(average_temperatures)"
      ]
    },
    {
      "cell_type": "markdown",
      "metadata": {
        "id": "X6LKPfrqm9S0"
      },
      "source": [
        "### 6. Write a Python program to input information about a few employees as given below: a. Name b. Employee Id c. Salary. The program should output the employee ID and salary of a specified employee, given his name."
      ]
    },
    {
      "cell_type": "code",
      "execution_count": 77,
      "metadata": {
        "id": "B_6ubdpjm9S0",
        "colab": {
          "base_uri": "https://localhost:8080/"
        },
        "outputId": "021951d5-7156-4f68-968a-95b9e3169324"
      },
      "outputs": [
        {
          "output_type": "stream",
          "name": "stdout",
          "text": [
            "Enter the name of the employee: Ali\n",
            "Employee ID: 1, Salary: 1000\n"
          ]
        }
      ],
      "source": [
        "emp= {\n",
        "    \"Name\":['Ali', 'Ahmed'],\n",
        "    \"Employee Id\": [1,2],\n",
        "    \"Salary\": [1000, 2000]\n",
        "}\n",
        "\n",
        "def info_employee(name):\n",
        "    for i in range(len(emp[\"Name\"])):\n",
        "        if emp[\"Name\"][i] == name:\n",
        "            return emp[\"Employee Id\"][i], emp[\"Salary\"][i]\n",
        "\n",
        "\n",
        "name = input(\"Enter the name of the employee: \")\n",
        "employee_id, salary = info_employee(name)\n",
        "print(f\"Employee ID: {employee_id}, Salary: {salary}\")\n",
        "\n",
        "\n"
      ]
    },
    {
      "cell_type": "markdown",
      "metadata": {
        "id": "NpSYWoAKm9S1"
      },
      "source": [
        "### 7. Write a function named addfruit, which is passed with a set of fruit names and their prices and returns a dictionary containing the entered information and raises a ValueError exception if the fruit is already present."
      ]
    },
    {
      "cell_type": "code",
      "execution_count": 95,
      "metadata": {
        "id": "gJnqi-t5m9S1",
        "colab": {
          "base_uri": "https://localhost:8080/"
        },
        "outputId": "14c05748-0eec-4b6c-a93d-2452892191e4"
      },
      "outputs": [
        {
          "output_type": "stream",
          "name": "stdout",
          "text": [
            "Fruit 'banana' already present in the dictionary.\n"
          ]
        }
      ],
      "source": [
        "def addfruit(fruit_data, new_fruits):\n",
        "    for fruit, price in new_fruits.items():\n",
        "        if fruit in fruit_data:\n",
        "            raise ValueError(f\"Fruit '{fruit}' already present in the dictionary.\")\n",
        "        else:\n",
        "            fruit_data[fruit] = price\n",
        "\n",
        "    return fruit_data\n",
        "\n",
        "try:\n",
        "    existing_fruits = {\n",
        "        'apple': 1.0,\n",
        "        'banana': 0.5\n",
        "    }\n",
        "\n",
        "    new_fruits = {\n",
        "        'orange': 0.9,\n",
        "        'grape': 2.0,\n",
        "        'banana': 0.6\n",
        "    }\n",
        "\n",
        "    existing_fruits = addfruit(existing_fruits, new_fruits)\n",
        "    print(\"Updated fruit dictionary:\", existing_fruits)\n",
        "\n",
        "except ValueError as e:\n",
        "    print(e)\n",
        "\n",
        "\n"
      ]
    },
    {
      "cell_type": "code",
      "source": [
        "existing_fruits"
      ],
      "metadata": {
        "colab": {
          "base_uri": "https://localhost:8080/"
        },
        "id": "FTBzqL2Tt_Kg",
        "outputId": "72b625e8-12d1-422c-d85f-48fabc06cd78"
      },
      "execution_count": 96,
      "outputs": [
        {
          "output_type": "execute_result",
          "data": {
            "text/plain": [
              "{'apple': 1.0, 'banana': 0.5, 'orange': 0.9, 'grape': 2.0}"
            ]
          },
          "metadata": {},
          "execution_count": 96
        }
      ]
    },
    {
      "cell_type": "markdown",
      "metadata": {
        "id": "yyBjpwECm9S1"
      },
      "source": [
        "### 8. Write a function to add the air quality index as the value and the date as the key; create the dictionary for the entered information"
      ]
    },
    {
      "cell_type": "code",
      "execution_count": 99,
      "metadata": {
        "id": "R8krB_2mm9S1",
        "colab": {
          "base_uri": "https://localhost:8080/"
        },
        "outputId": "1c6c50cc-0022-4e24-ed87-e2ff9d7123ec"
      },
      "outputs": [
        {
          "output_type": "stream",
          "name": "stdout",
          "text": [
            "Enter the date (YYYY-MM-DD): 22-22-2222\n",
            "Enter the AQI value: 2\n",
            "Updated AQI records: {'2024-09-01': 150, '2024-09-02': 120, '22-22-2222': 2.0}\n"
          ]
        }
      ],
      "source": [
        "\n",
        "def add_air_quality_record(aqi_data, date, aqi_value):\n",
        "    aqi_data[date] = aqi_value\n",
        "    return aqi_data\n",
        "\n",
        "\n",
        "aqi_records = {\n",
        "        '2024-09-01': 150,\n",
        "        '2024-09-02': 120\n",
        "    }\n",
        "\n",
        "new_date = input(\"Enter the date (YYYY-MM-DD): \")\n",
        "new_aqi = float(input(\"Enter the AQI value: \"))\n",
        "\n",
        "updated_records = add_air_quality_record(aqi_records, new_date, new_aqi)\n",
        "print(\"Updated AQI records:\", updated_records)\n"
      ]
    },
    {
      "cell_type": "markdown",
      "metadata": {
        "id": "D5bXNrb0m9S1"
      },
      "source": [
        "### 9. Create a dictionary that contains usernames as the key and passwords as the associated values. Make up the data for five dictionary entries and demonstrate the use of clear and fromkeys() methods."
      ]
    },
    {
      "cell_type": "code",
      "execution_count": 105,
      "metadata": {
        "id": "67_KUuUWm9S1",
        "colab": {
          "base_uri": "https://localhost:8080/"
        },
        "outputId": "fd6fb55e-3e97-4837-d64f-834bb18731de"
      },
      "outputs": [
        {
          "output_type": "execute_result",
          "data": {
            "text/plain": [
              "{'username1': 'password1',\n",
              " 'username2': 'password2',\n",
              " 'username3': 'password3',\n",
              " 'username4': 'password4',\n",
              " 'username5': 'password5'}"
            ]
          },
          "metadata": {},
          "execution_count": 105
        }
      ],
      "source": [
        "dict1 = {\n",
        "    \"username1\": \"password1\",\n",
        "    \"username2\": \"password2\",\n",
        "    \"username3\": \"password3\",\n",
        "    \"username4\": \"password4\",\n",
        "    \"username5\": \"password5\"\n",
        "}\n",
        "\n",
        "dict1"
      ]
    },
    {
      "cell_type": "code",
      "source": [
        "dict1.clear()\n",
        "dict1"
      ],
      "metadata": {
        "colab": {
          "base_uri": "https://localhost:8080/"
        },
        "id": "m47aKdERxKSY",
        "outputId": "0aac7db8-130a-49dc-a410-39b29f59ed75"
      },
      "execution_count": 104,
      "outputs": [
        {
          "output_type": "execute_result",
          "data": {
            "text/plain": [
              "{}"
            ]
          },
          "metadata": {},
          "execution_count": 104
        }
      ]
    },
    {
      "cell_type": "code",
      "source": [
        "dict2 = dict.fromkeys([\"key1\", \"key2\", \"key3\"], \"default_value\")\n",
        "dict2"
      ],
      "metadata": {
        "colab": {
          "base_uri": "https://localhost:8080/"
        },
        "id": "l7AE1wz-xG4O",
        "outputId": "2961c33e-a181-4da6-8f4a-7e8657d08b6e"
      },
      "execution_count": 102,
      "outputs": [
        {
          "output_type": "execute_result",
          "data": {
            "text/plain": [
              "{'key1': 'default_value', 'key2': 'default_value', 'key3': 'default_value'}"
            ]
          },
          "metadata": {},
          "execution_count": 102
        }
      ]
    },
    {
      "cell_type": "markdown",
      "metadata": {
        "id": "mpBaLU1sm9S2"
      },
      "source": [
        "### 10. Write Pythonic code to create a dictionary that accepts a country name as a key and its capital city as the value. Display the details in sorted order."
      ]
    },
    {
      "cell_type": "code",
      "execution_count": 106,
      "metadata": {
        "id": "31ziMndwm9S2",
        "colab": {
          "base_uri": "https://localhost:8080/"
        },
        "outputId": "603f670e-4c25-44bf-f2c8-0a32839df666"
      },
      "outputs": [
        {
          "output_type": "execute_result",
          "data": {
            "text/plain": [
              "{'country2': 'capital2',\n",
              " 'country3': 'capital3',\n",
              " 'country4': 'capital4',\n",
              " 'country5': 'capital5',\n",
              " 'country7': 'capital7'}"
            ]
          },
          "metadata": {},
          "execution_count": 106
        }
      ],
      "source": [
        "dict3 = {\n",
        "    \"country7\": \"capital7\",\n",
        "    \"country2\": \"capital2\",\n",
        "    \"country3\": \"capital3\",\n",
        "    \"country4\": \"capital4\",\n",
        "    \"country5\": \"capital5\"\n",
        "}\n",
        "\n",
        "sorted_dict = dict(sorted(dict3.items()))\n",
        "sorted_dict"
      ]
    },
    {
      "cell_type": "markdown",
      "metadata": {
        "id": "12SfZ-5Km9S2"
      },
      "source": [
        "### 11. Write a program that has the dictionary of your friends’ names as keys and phone numbers as its values. Print the dictionary in a sorted order. Prompt the user to enter the name and check if it is present in the dictionary. If the name is not present, then enter the details in the dictionary."
      ]
    },
    {
      "cell_type": "code",
      "execution_count": 107,
      "metadata": {
        "id": "8q9E5Dv0m9S2",
        "colab": {
          "base_uri": "https://localhost:8080/"
        },
        "outputId": "c4109840-4fa4-4365-d940-b86c3bb32bbd"
      },
      "outputs": [
        {
          "output_type": "stream",
          "name": "stdout",
          "text": [
            "{'name1': 'phone1', 'name2': 'phone2', 'name3': 'phone3', 'name4': 'phone4', 'name5': 'phone5'}\n",
            "Enter the name: name1\n",
            "The phone number of name1 is phone1.\n"
          ]
        }
      ],
      "source": [
        "dict4 = {\n",
        "    \"name1\": \"phone1\",\n",
        "    \"name2\": \"phone2\",\n",
        "    \"name3\": \"phone3\",\n",
        "    \"name4\": \"phone4\",\n",
        "    \"name5\": \"phone5\"\n",
        "}\n",
        "\n",
        "print(dict(sorted(dict4.items())))\n",
        "\n",
        "name = input(\"Enter the name: \")\n",
        "if name in dict4:\n",
        "    print(f\"The phone number of {name} is {dict4[name]}.\")\n",
        "else:\n",
        "    phone = input(\"Enter the phone number: \")\n",
        "    dict4[name] = phone\n",
        "\n",
        ""
      ]
    },
    {
      "cell_type": "markdown",
      "metadata": {
        "id": "P18Y2kO8m9S2"
      },
      "source": [
        "### 12. Write a program to create a dictionary containing the author name as the keys and ISBN number as the value. Make up the data for five dictionary entries and demonstrate the use of clear() and fromkeys() methods."
      ]
    },
    {
      "cell_type": "code",
      "execution_count": 110,
      "metadata": {
        "id": "U4mdvq_Am9S2",
        "colab": {
          "base_uri": "https://localhost:8080/"
        },
        "outputId": "7992f4b9-e10f-4db0-adc6-f3fccd62009a"
      },
      "outputs": [
        {
          "output_type": "execute_result",
          "data": {
            "text/plain": [
              "{'key1': 'default_value', 'key2': 'default_value', 'key3': 'default_value'}"
            ]
          },
          "metadata": {},
          "execution_count": 110
        }
      ],
      "source": [
        "dict5 = {\n",
        "    \"author1\": \"ISBN1\",\n",
        "    \"author2\": \"ISBN2\",\n",
        "    \"author3\": \"ISBN3\",\n",
        "    \"author4\": \"ISBN4\",\n",
        "    \"author5\": \"ISBN5\"\n",
        "}\n",
        "\n",
        "dict5.clear()\n",
        "dict5\n",
        "\n",
        "dict5= dict5.fromkeys([\"key1\", \"key2\", \"key3\"], \"default_value\")\n",
        "dict5"
      ]
    },
    {
      "cell_type": "markdown",
      "metadata": {
        "id": "46kO-e9Vm9S2"
      },
      "source": [
        "=========="
      ]
    },
    {
      "cell_type": "markdown",
      "metadata": {
        "id": "bS8qgM3Xm9S3"
      },
      "source": [
        "## Chapter(8) Programming Exercises - Tuples & Sets"
      ]
    },
    {
      "cell_type": "markdown",
      "metadata": {
        "id": "-UmQhTKVm9S3"
      },
      "source": [
        "### 11. Write a program to unpack a tuple to several variables."
      ]
    },
    {
      "cell_type": "code",
      "execution_count": 111,
      "metadata": {
        "id": "qSIKgdoLm9S3",
        "colab": {
          "base_uri": "https://localhost:8080/"
        },
        "outputId": "7311407e-24de-4c78-cafd-a1aac373df47"
      },
      "outputs": [
        {
          "output_type": "stream",
          "name": "stdout",
          "text": [
            "Name: Alice\n",
            "Age: 30\n",
            "City: New York\n"
          ]
        }
      ],
      "source": [
        "# Step 1: Create a tuple with multiple elements\n",
        "person_info = (\"Alice\", 30, \"New York\")\n",
        "\n",
        "# Step 2: Unpack the tuple into several variables\n",
        "name, age, city = person_info\n",
        "\n",
        "# Print the unpacked variables\n",
        "print(\"Name:\", name)\n",
        "print(\"Age:\", age)\n",
        "print(\"City:\", city)\n"
      ]
    },
    {
      "cell_type": "markdown",
      "metadata": {
        "id": "qN3cxGOdm9S3"
      },
      "source": [
        "### 12. Write a program to check whether an item exists within a tuple."
      ]
    },
    {
      "cell_type": "code",
      "execution_count": 112,
      "metadata": {
        "id": "TzuBXkAtm9S3",
        "colab": {
          "base_uri": "https://localhost:8080/"
        },
        "outputId": "6bd2dd29-0827-46bf-b019-772fbadee5ee"
      },
      "outputs": [
        {
          "output_type": "stream",
          "name": "stdout",
          "text": [
            "3 exists in the tuple.\n"
          ]
        }
      ],
      "source": [
        "def check_item_in_tuple(item, my_tuple):\n",
        "    return item in my_tuple\n",
        "\n",
        "my_tuple = (1, 2, 3, 4, 5)\n",
        "item_to_check = 3\n",
        "\n",
        "if check_item_in_tuple(item_to_check, my_tuple):\n",
        "    print(f\"{item_to_check} exists in the tuple.\")\n",
        "else:\n",
        "    print(f\"{item_to_check} does not exist in the tuple.\")"
      ]
    },
    {
      "cell_type": "markdown",
      "metadata": {
        "id": "zxpQA1LMm9S3"
      },
      "source": [
        "### 13. Write a program to unzip a list of tuples into individual lists."
      ]
    },
    {
      "cell_type": "code",
      "execution_count": 113,
      "metadata": {
        "id": "VJuravsRm9S3",
        "colab": {
          "base_uri": "https://localhost:8080/"
        },
        "outputId": "300b120d-4bf9-4287-e762-21fdb1e8d427"
      },
      "outputs": [
        {
          "output_type": "stream",
          "name": "stdout",
          "text": [
            "[(1, 3, 5), (2, 4, 6)]\n"
          ]
        }
      ],
      "source": [
        "def unzip_list_of_tuples(list_of_tuples):\n",
        "    unzipped_lists = list(zip(*list_of_tuples))\n",
        "    return unzipped_lists\n",
        "\n",
        "\n",
        "print(unzip_list_of_tuples([(1, 2), (3, 4), (5, 6)]))"
      ]
    },
    {
      "cell_type": "markdown",
      "metadata": {
        "id": "o3rGU_kVm9S4"
      },
      "source": [
        "### 14. Write a program to create an intersection, union, set difference, and symmetric difference of sets."
      ]
    },
    {
      "cell_type": "code",
      "execution_count": 114,
      "metadata": {
        "id": "mYuzDtEQm9S4",
        "colab": {
          "base_uri": "https://localhost:8080/"
        },
        "outputId": "bf3a5aa4-ed0f-495d-912e-fd40265fca2f"
      },
      "outputs": [
        {
          "output_type": "stream",
          "name": "stdout",
          "text": [
            "({3, 4}, {1, 2, 3, 4, 5, 6}, {1, 2}, {1, 2, 5, 6})\n"
          ]
        }
      ],
      "source": [
        "def perform_set_operations(set1, set2):\n",
        "\n",
        "    intersection = set1.intersection(set2)\n",
        "    union = set1.union(set2)\n",
        "    difference = set1.difference(set2)\n",
        "    symmetric_difference = set1.symmetric_difference(set2)\n",
        "\n",
        "    return intersection, union, difference, symmetric_difference\n",
        "\n",
        "print(perform_set_operations({1, 2, 3, 4}, {3, 4, 5, 6}))"
      ]
    },
    {
      "cell_type": "markdown",
      "metadata": {
        "id": "rCHfl_mum9S4"
      },
      "source": [
        "### 15. Write a program to demonstrate the use of issubset() and issuperset() methods."
      ]
    },
    {
      "cell_type": "code",
      "execution_count": 115,
      "metadata": {
        "id": "yGNrZz8cm9S4",
        "colab": {
          "base_uri": "https://localhost:8080/"
        },
        "outputId": "bdfc298f-f199-414f-b210-067a888d9316"
      },
      "outputs": [
        {
          "output_type": "stream",
          "name": "stdout",
          "text": [
            "set1 is a subset of set2\n",
            "set1 is not a superset of set2\n"
          ]
        }
      ],
      "source": [
        "def check_set_relationships(set1, set2):\n",
        "    if set1.issubset(set2):\n",
        "        print(\"set1 is a subset of set2\")\n",
        "    else:\n",
        "        print(\"set1 is not a subset of set2\")\n",
        "\n",
        "\n",
        "    if set1.issuperset(set2):\n",
        "        print(\"set1 is a superset of set2\")\n",
        "    else:\n",
        "        print(\"set1 is not a superset of set2\")\n",
        "\n",
        "\n",
        "check_set_relationships({1, 2, 3}, {1, 2, 3, 4, 5})"
      ]
    },
    {
      "cell_type": "markdown",
      "metadata": {
        "id": "Aft9SoIKm9S4"
      },
      "source": [
        "### 16. Write a program that takes a range and creates a list of tuples within that range with the first element as the number and the second element as the square of the number."
      ]
    },
    {
      "cell_type": "code",
      "execution_count": 116,
      "metadata": {
        "id": "x428NYdxm9S4",
        "colab": {
          "base_uri": "https://localhost:8080/"
        },
        "outputId": "56d99a0d-91db-44a2-cce1-9ccf309925ce"
      },
      "outputs": [
        {
          "output_type": "stream",
          "name": "stdout",
          "text": [
            "[(1, 1), (2, 4), (3, 9), (4, 16), (5, 25)]\n"
          ]
        }
      ],
      "source": [
        "def create_tuple_list_within_range(start, end):\n",
        "    result = []\n",
        "    for num in range(start, end + 1):\n",
        "        result.append((num, num ** 2))\n",
        "    return result\n",
        "\n",
        "\n",
        "print(create_tuple_list_within_range(1, 5))"
      ]
    },
    {
      "cell_type": "markdown",
      "metadata": {
        "id": "khq6_DAQm9S4"
      },
      "source": [
        "### 17. Write a program to clear a set."
      ]
    },
    {
      "cell_type": "code",
      "execution_count": 117,
      "metadata": {
        "id": "4jChfBgjm9S5",
        "colab": {
          "base_uri": "https://localhost:8080/"
        },
        "outputId": "24b2c6d3-e78c-4f4b-c048-61bf638572fe"
      },
      "outputs": [
        {
          "output_type": "execute_result",
          "data": {
            "text/plain": [
              "set()"
            ]
          },
          "metadata": {},
          "execution_count": 117
        }
      ],
      "source": [
        "set1 = {1, 2, 3, 4, 5}\n",
        "set1.clear()\n",
        "set1"
      ]
    },
    {
      "cell_type": "markdown",
      "metadata": {
        "id": "_tG91pESm9S5"
      },
      "source": [
        "### 18. Write a program to find the length of the set."
      ]
    },
    {
      "cell_type": "code",
      "execution_count": 118,
      "metadata": {
        "id": "y4dWVZWNm9S5",
        "colab": {
          "base_uri": "https://localhost:8080/"
        },
        "outputId": "40fe4ffb-19c2-4c4e-8d2b-a3d30d301e68"
      },
      "outputs": [
        {
          "output_type": "execute_result",
          "data": {
            "text/plain": [
              "4"
            ]
          },
          "metadata": {},
          "execution_count": 118
        }
      ],
      "source": [
        "set2 = {1,2,3,4}\n",
        "len(set2)"
      ]
    },
    {
      "cell_type": "markdown",
      "metadata": {
        "id": "9RxsbnHUm9S5"
      },
      "source": [
        "### 19. Write a program to store the latitude and longitude of your house as a tuple and display it."
      ]
    },
    {
      "cell_type": "code",
      "execution_count": 119,
      "metadata": {
        "id": "xSQFBN8xm9S5",
        "colab": {
          "base_uri": "https://localhost:8080/"
        },
        "outputId": "d380a0dd-710b-4d43-8d54-a644519f8abe"
      },
      "outputs": [
        {
          "output_type": "stream",
          "name": "stdout",
          "text": [
            "{'latitude': 51.5074, 'longitude': -0.1278}\n"
          ]
        }
      ],
      "source": [
        "\n",
        "set3 = {\"latitude\": 51.5074, \"longitude\": -0.1278}\n",
        "print(set3)"
      ]
    },
    {
      "cell_type": "markdown",
      "metadata": {
        "id": "0KoowBj1m9S5"
      },
      "source": [
        "=========="
      ]
    }
  ],
  "metadata": {
    "kernelspec": {
      "display_name": "Python 3",
      "language": "python",
      "name": "python3"
    },
    "language_info": {
      "codemirror_mode": {
        "name": "ipython",
        "version": 3
      },
      "file_extension": ".py",
      "mimetype": "text/x-python",
      "name": "python",
      "nbconvert_exporter": "python",
      "pygments_lexer": "ipython3",
      "version": "3.8.3"
    },
    "colab": {
      "provenance": [],
      "include_colab_link": true
    }
  },
  "nbformat": 4,
  "nbformat_minor": 0
}