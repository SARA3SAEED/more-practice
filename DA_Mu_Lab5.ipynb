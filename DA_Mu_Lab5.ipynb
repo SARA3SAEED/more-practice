{
  "nbformat": 4,
  "nbformat_minor": 0,
  "metadata": {
    "kernelspec": {
      "display_name": "Python 3",
      "language": "python",
      "name": "python3"
    },
    "language_info": {
      "codemirror_mode": {
        "name": "ipython",
        "version": 3
      },
      "file_extension": ".py",
      "mimetype": "text/x-python",
      "name": "python",
      "nbconvert_exporter": "python",
      "pygments_lexer": "ipython3",
      "version": "3.8.3"
    },
    "colab": {
      "provenance": [],
      "include_colab_link": true
    }
  },
  "cells": [
    {
      "cell_type": "markdown",
      "metadata": {
        "id": "view-in-github",
        "colab_type": "text"
      },
      "source": [
        "<a href=\"https://colab.research.google.com/github/SARA3SAEED/more-practice/blob/main/DA_Mu_Lab5.ipynb\" target=\"_parent\"><img src=\"https://colab.research.google.com/assets/colab-badge.svg\" alt=\"Open In Colab\"/></a>"
      ]
    },
    {
      "cell_type": "markdown",
      "metadata": {
        "id": "z41x7P_2nc_8"
      },
      "source": [
        "# Introduction to Python Programming, Gowrishankar & Veena (2019)"
      ]
    },
    {
      "cell_type": "markdown",
      "metadata": {
        "id": "tONIkN_HndAH"
      },
      "source": [
        "## Chapter(2) Programming Exercises - Python Basics"
      ]
    },
    {
      "cell_type": "markdown",
      "metadata": {
        "id": "GVlZ8iN2ndAI"
      },
      "source": [
        "### 9. Write a program to read two integers and perform arithmetic operations on them (addition, subtraction, multiplication and division)."
      ]
    },
    {
      "cell_type": "code",
      "metadata": {
        "id": "vovEygBgndAJ",
        "colab": {
          "base_uri": "https://localhost:8080/"
        },
        "outputId": "68e68867-fa7e-456d-c009-6b0e0fc0df04"
      },
      "source": [
        "a = 2\n",
        "b = 4\n",
        "\n",
        "print(a+b)\n",
        "print(a-b)\n",
        "print(a*b)\n",
        "print(a/b)\n"
      ],
      "execution_count": 2,
      "outputs": [
        {
          "output_type": "stream",
          "name": "stdout",
          "text": [
            "6\n",
            "-2\n",
            "8\n",
            "0.5\n"
          ]
        }
      ]
    },
    {
      "cell_type": "markdown",
      "metadata": {
        "id": "a5PKpsuBndAJ"
      },
      "source": [
        "### 10. Write a program to read the marks of three subjects and find the average of them."
      ]
    },
    {
      "cell_type": "code",
      "metadata": {
        "id": "h2-2z8ArndAK",
        "colab": {
          "base_uri": "https://localhost:8080/"
        },
        "outputId": "bc3b1359-0a3d-472f-e52f-7a4bc3e40f60"
      },
      "source": [
        "math = 10.9\n",
        "bio = 8.7\n",
        "chem = 9.0\n",
        "\n",
        "avg = (math+bio+chem)/3\n",
        "print(avg)"
      ],
      "execution_count": 3,
      "outputs": [
        {
          "output_type": "stream",
          "name": "stdout",
          "text": [
            "9.533333333333333\n"
          ]
        }
      ]
    },
    {
      "cell_type": "markdown",
      "metadata": {
        "id": "5P6o5QmUndAK"
      },
      "source": [
        "### 11. Write a program to convert kilogram into pound."
      ]
    },
    {
      "cell_type": "code",
      "metadata": {
        "id": "-zD-CbwpndAL",
        "colab": {
          "base_uri": "https://localhost:8080/"
        },
        "outputId": "f91067bd-55f9-4111-837c-11639ff156a2"
      },
      "source": [
        "k = 9\n",
        "p = k*2.205\n",
        "print(p)"
      ],
      "execution_count": 4,
      "outputs": [
        {
          "output_type": "stream",
          "name": "stdout",
          "text": [
            "19.845\n"
          ]
        }
      ]
    },
    {
      "cell_type": "markdown",
      "metadata": {
        "id": "SAoeUItdndAM"
      },
      "source": [
        "### 12. Surface area of a prism can be calculated if the lengths of the three sides are known. Write a program that takes the sides as input (read it as integer) and prints the surface area of the prism (Surface Area = 2ab + 2bc + 2ca)."
      ]
    },
    {
      "cell_type": "code",
      "metadata": {
        "id": "l2Rc1eXFndAM",
        "colab": {
          "base_uri": "https://localhost:8080/"
        },
        "outputId": "9b2b752f-b33a-4325-8c53-590e471f80be"
      },
      "source": [
        "ab = int(input(\"Enter the length of side ab: \"))\n",
        "bc = int(input(\"Enter the length of side bc: \"))\n",
        "ca = int(input(\"Enter the length of side ca: \"))\n",
        "\n",
        "sa = 2*ab + 2*bc + 2*ca\n",
        "print(sa)"
      ],
      "execution_count": 5,
      "outputs": [
        {
          "output_type": "stream",
          "name": "stdout",
          "text": [
            "Enter the length of side ab: 2\n",
            "Enter the length of side bc: 3\n",
            "Enter the length of side ca: 2\n",
            "14\n"
          ]
        }
      ]
    },
    {
      "cell_type": "markdown",
      "metadata": {
        "id": "3Kj4Q5QDndAN"
      },
      "source": [
        "### 13. A plane travels 395,000 meters in 9000 seconds. Write a program to find the speed of the plane (Speed = Distance / Time)."
      ]
    },
    {
      "cell_type": "code",
      "metadata": {
        "id": "qeKzLT1BndAN",
        "colab": {
          "base_uri": "https://localhost:8080/"
        },
        "outputId": "a1ca8da0-7d9d-4abc-800c-74140d8b2173"
      },
      "source": [
        "m = 395000\n",
        "s = 9000\n",
        "\n",
        "speed = m/s\n",
        "print(speed)"
      ],
      "execution_count": 6,
      "outputs": [
        {
          "output_type": "stream",
          "name": "stdout",
          "text": [
            "43.888888888888886\n"
          ]
        }
      ]
    },
    {
      "cell_type": "markdown",
      "metadata": {
        "id": "uVOuL18CndAN"
      },
      "source": [
        "### 14. You need to empty out the rectangular swimming pool which is 12 meters long, 7  meters wide and 2  meter depth. You have a pump which can move 17  cubic meters of water in an hour. Write a program to find how long it will take to empty your pool? (Volume = l * w * h, and flow = volume/time)."
      ]
    },
    {
      "cell_type": "code",
      "metadata": {
        "id": "erIDlpzwndAN",
        "colab": {
          "base_uri": "https://localhost:8080/"
        },
        "outputId": "a1e0d449-fb59-4fb2-a544-2936a351cd76"
      },
      "source": [
        "v = 12*7*2\n",
        "t = v/17\n",
        "print(t)"
      ],
      "execution_count": 7,
      "outputs": [
        {
          "output_type": "stream",
          "name": "stdout",
          "text": [
            "9.882352941176471\n"
          ]
        }
      ]
    },
    {
      "cell_type": "markdown",
      "metadata": {
        "id": "hVDCk8vrndAO"
      },
      "source": [
        "### 15. Write a program to convert temperature from centigrade (read it as float value) to Fahrenheit."
      ]
    },
    {
      "cell_type": "code",
      "metadata": {
        "id": "f04m2S3dndAO",
        "colab": {
          "base_uri": "https://localhost:8080/"
        },
        "outputId": "2ce6d1b3-efcf-4dbf-f6c2-05bf3b909662"
      },
      "source": [
        "c = 25.6\n",
        "f = (c*9/5)+32\n",
        "print(f)"
      ],
      "execution_count": 9,
      "outputs": [
        {
          "output_type": "stream",
          "name": "stdout",
          "text": [
            "78.08\n"
          ]
        }
      ]
    },
    {
      "cell_type": "markdown",
      "metadata": {
        "id": "oMOSYXJBndAO"
      },
      "source": [
        "### 16. Write a program that calculates the number of seconds in a day."
      ]
    },
    {
      "cell_type": "code",
      "metadata": {
        "id": "Ih1bZMbjndAO",
        "colab": {
          "base_uri": "https://localhost:8080/"
        },
        "outputId": "56a752db-140f-44d2-bc5f-9c23be4ffe32"
      },
      "source": [
        "s = 24 * 60 * 60\n",
        "print(s)"
      ],
      "execution_count": 10,
      "outputs": [
        {
          "output_type": "stream",
          "name": "stdout",
          "text": [
            "86400\n"
          ]
        }
      ]
    },
    {
      "cell_type": "markdown",
      "metadata": {
        "id": "tek63UfdndAP"
      },
      "source": [
        "### 17. A car starts from a stoplight and is traveling with a velocity of 10 m/sec east in 20 seconds. Write a program to find the acceleration of the car. (acc = (vfinal−vinitial)/time)."
      ]
    },
    {
      "cell_type": "code",
      "metadata": {
        "id": "cgjWWvA7ndAP",
        "colab": {
          "base_uri": "https://localhost:8080/"
        },
        "outputId": "ed79063a-4874-414a-dccd-6f6c88208c28"
      },
      "source": [
        "acc = (10-0)/20\n",
        "print(acc)"
      ],
      "execution_count": 11,
      "outputs": [
        {
          "output_type": "stream",
          "name": "stdout",
          "text": [
            "0.5\n"
          ]
        }
      ]
    },
    {
      "cell_type": "markdown",
      "metadata": {
        "id": "JqOBT0T-ndAP"
      },
      "source": [
        "=========="
      ]
    },
    {
      "cell_type": "markdown",
      "metadata": {
        "id": "HkB_ZVXyndAQ"
      },
      "source": [
        "## Chapter(3) Programming Exercises - Control Flow"
      ]
    },
    {
      "cell_type": "markdown",
      "metadata": {
        "id": "v9WbKLgmndAQ"
      },
      "source": [
        "### 10. Write a program to read the Richter magnitude value from the user and display the result for the following conditions using if...elif...else statement."
      ]
    },
    {
      "cell_type": "markdown",
      "metadata": {
        "id": "yPLaORJsndAQ"
      },
      "source": [
        "| Richter Magnitude  \t| Information                                     \t|\n",
        "|--------------------\t|-------------------------------------------------\t|\n",
        "| > 1.0 and < 2.0    \t| Microearthquakes not felt or rarely felt        \t|\n",
        "| > 2.0 and < 4.0    \t| Very rarely causes damage                       \t|\n",
        "| > 4.0 and < 5.0    \t| Damage done to weak buildings                   \t|\n",
        "| > 5.0 and < 6.0    \t| Cause damage to the poorly constructed building \t|\n",
        "| > 6.0 and < 7.0    \t| Causes damage to well-built structures          \t|\n",
        "| > 7.0 and < 8.0    \t| Causes damage to most buildings                 \t|\n",
        "| > 8.0 and < 9.0    \t| Causes major destruction                        \t|\n",
        "| > 9.0              \t| Causes unbelievable damage                      \t|"
      ]
    },
    {
      "cell_type": "code",
      "metadata": {
        "id": "pyaHPbGZndAQ",
        "colab": {
          "base_uri": "https://localhost:8080/"
        },
        "outputId": "427cbc2d-0ecd-476e-e117-33dab1e067b0"
      },
      "source": [
        "x = float(input(\"Enter the Richter magnitude value: \"))\n",
        "\n",
        "if (x>1.0 and x<2.0):\n",
        "    print(\"Microearthquakes not felt or rarely felt\")\n",
        "elif (x>2.0 and x<4.0):\n",
        "    print(\"Very rarely causes damage\")\n",
        "elif (x>4.0 and x<5.0):\n",
        "    print(\"Damage done to weak buildings\")\n",
        "elif (x>5.0 and x<6.0):\n",
        "    print(\"Cause damage to the poorly constructed building\")\n",
        "elif (x>6.0 and x<7.0):\n",
        "    print(\"Causes damage to well-built structures\")\n",
        "elif (x>7.0 and x<8.0):\n",
        "    print(\"Causes damage to most buildings\")\n",
        "elif (x>8.0 and x<9.0):\n",
        "    print(\"Causes major destruction\")\n",
        "elif (x>9.0):\n",
        "    print(\"Causes unbelievable damage\")"
      ],
      "execution_count": 15,
      "outputs": [
        {
          "output_type": "stream",
          "name": "stdout",
          "text": [
            "Enter the Richter magnitude value: 9.7\n",
            "Causes unbelievable damage\n"
          ]
        }
      ]
    },
    {
      "cell_type": "markdown",
      "metadata": {
        "id": "15juBzkrndAR"
      },
      "source": [
        "### 11. Write a program to display Pascal’s triangle."
      ]
    },
    {
      "cell_type": "code",
      "metadata": {
        "id": "ZDRUp-XKndAR",
        "colab": {
          "base_uri": "https://localhost:8080/"
        },
        "outputId": "8316cf47-2b72-42b5-a2b1-7a8986fa25f7"
      },
      "source": [
        "for i in range(10):\n",
        "    for j in range(i+1):\n",
        "        print(j, end=\" \")\n",
        "    print()"
      ],
      "execution_count": 19,
      "outputs": [
        {
          "output_type": "stream",
          "name": "stdout",
          "text": [
            "0 \n",
            "0 1 \n",
            "0 1 2 \n",
            "0 1 2 3 \n",
            "0 1 2 3 4 \n",
            "0 1 2 3 4 5 \n",
            "0 1 2 3 4 5 6 \n",
            "0 1 2 3 4 5 6 7 \n",
            "0 1 2 3 4 5 6 7 8 \n",
            "0 1 2 3 4 5 6 7 8 9 \n"
          ]
        }
      ]
    },
    {
      "cell_type": "markdown",
      "metadata": {
        "id": "JE63_ceFndAS"
      },
      "source": [
        "### 13. Write a program that uses a while loop to add up all the even numbers between 100 and 200."
      ]
    },
    {
      "cell_type": "code",
      "metadata": {
        "id": "eRQb6hCJndAS",
        "colab": {
          "base_uri": "https://localhost:8080/"
        },
        "outputId": "ad61327f-c0b1-4d89-bb1e-6a55bd91986a"
      },
      "source": [
        "sum = 0\n",
        "i = 100\n",
        "while (i <=200):\n",
        "    if (i%2==0):\n",
        "        sum +=i\n",
        "    i+=1\n",
        "\n",
        "print(sum)"
      ],
      "execution_count": 21,
      "outputs": [
        {
          "output_type": "stream",
          "name": "stdout",
          "text": [
            "7650\n"
          ]
        }
      ]
    },
    {
      "cell_type": "markdown",
      "metadata": {
        "id": "5a4UcMfAndAT"
      },
      "source": [
        "### 14. Write a program to print the sum of the following series\n",
        "- a. 1 + ½ + 1/3 +. …. + 1/n\n",
        "- b. 1/1 + 22/2 + 33/3 + ……. + nn/n"
      ]
    },
    {
      "cell_type": "code",
      "metadata": {
        "id": "EsYK9izondAT",
        "colab": {
          "base_uri": "https://localhost:8080/"
        },
        "outputId": "69cf054c-1050-4e92-b1a4-d288061fd8c6"
      },
      "source": [
        "for i in range(1,11):\n",
        "    print(round(1/i,2), end=\" - \")"
      ],
      "execution_count": 24,
      "outputs": [
        {
          "output_type": "stream",
          "name": "stdout",
          "text": [
            "1.0 - 0.5 - 0.33 - 0.25 - 0.2 - 0.17 - 0.14 - 0.12 - 0.11 - 0.1 - "
          ]
        }
      ]
    },
    {
      "cell_type": "code",
      "source": [
        "j = 11\n",
        "for i in range(1,9):\n",
        "    print(i*j/i, end=\" + \")\n",
        ""
      ],
      "metadata": {
        "colab": {
          "base_uri": "https://localhost:8080/"
        },
        "id": "g7Ox6cE-swB4",
        "outputId": "60482709-abae-4d4a-b57a-cc2622a4f359"
      },
      "execution_count": 29,
      "outputs": [
        {
          "output_type": "stream",
          "name": "stdout",
          "text": [
            "11.0 + 11.0 + 11.0 + 11.0 + 11.0 + 11.0 + 11.0 + 11.0 + "
          ]
        }
      ]
    },
    {
      "cell_type": "markdown",
      "metadata": {
        "id": "NUp1T4vWndAU"
      },
      "source": [
        "### 15. Write a program to find the depreciation value of an asset(property) by reading the purchase value of the asset (amt), year of the service (year) and the value of depreciation."
      ]
    },
    {
      "cell_type": "code",
      "metadata": {
        "id": "twh8aGe2ndAU",
        "colab": {
          "base_uri": "https://localhost:8080/"
        },
        "outputId": "72612e20-1a52-4f4f-b362-4a852a384fbf"
      },
      "source": [
        "purchase_value = float(input(\"Enter the purchase value of the asset: \"))\n",
        "years_of_service = int(input(\"Enter the number of years the asset has been in service: \"))\n",
        "depreciation_rate = float(input(\"Enter the annual depreciation rate (in percentage): \"))\n",
        "\n",
        "depreciation_value = (purchase_value * depreciation_rate * years_of_service) / 100\n",
        "\n",
        "print(f\"The depreciation value of the asset over {years_of_service} years is: {depreciation_value:.2f}\")\n"
      ],
      "execution_count": 32,
      "outputs": [
        {
          "output_type": "stream",
          "name": "stdout",
          "text": [
            "Enter the purchase value of the asset: 3.0\n",
            "Enter the number of years the asset has been in service: 2\n",
            "Enter the annual depreciation rate (in percentage): 3.0\n",
            "The depreciation value of the asset over 2 years is: 0.18\n"
          ]
        }
      ]
    },
    {
      "cell_type": "markdown",
      "metadata": {
        "id": "i_BHscV3ndAU"
      },
      "source": [
        "=========="
      ]
    }
  ]
}