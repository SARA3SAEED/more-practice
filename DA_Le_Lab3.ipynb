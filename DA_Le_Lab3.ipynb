{
  "cells": [
    {
      "cell_type": "markdown",
      "metadata": {
        "id": "view-in-github",
        "colab_type": "text"
      },
      "source": [
        "<a href=\"https://colab.research.google.com/github/SARA3SAEED/more-practice/blob/main/DA_Le_Lab3.ipynb\" target=\"_parent\"><img src=\"https://colab.research.google.com/assets/colab-badge.svg\" alt=\"Open In Colab\"/></a>"
      ]
    },
    {
      "cell_type": "markdown",
      "metadata": {
        "id": "-GZaVHIylfhC"
      },
      "source": [
        "# Travel agency\n",
        "\n"
      ]
    },
    {
      "cell_type": "markdown",
      "metadata": {
        "id": "OXuaW1Ey74eO"
      },
      "source": [
        "Today, you are working at a travel agency. All the cities covered by this agency are stored in a Python dictionary.\n",
        "\n",
        "\n",
        "They need your newly acquired Python skills to develop useful functions!"
      ]
    },
    {
      "cell_type": "markdown",
      "metadata": {
        "id": "Ot9XlCT-8d5w"
      },
      "source": [
        "## Information for one city\n"
      ]
    },
    {
      "cell_type": "markdown",
      "metadata": {
        "id": "0TklkrRAl8iD"
      },
      "source": [
        "The information pertaining to a city is provided in a single dictionary. Let's take a look at an example below.\n",
        "\n",
        "Please note that:\n",
        "- `location` corresponds to latitude and longitude\n",
        "- `prefecture_level` is measured in km<sup>2</sup> (squared kilometers)"
      ]
    },
    {
      "cell_type": "code",
      "execution_count": 2,
      "metadata": {
        "ExecuteTime": {
          "end_time": "2024-02-13T12:05:25.732492Z",
          "start_time": "2024-02-13T12:05:25.725236Z"
        },
        "id": "L4hhUpgFl9Q1"
      },
      "outputs": [],
      "source": [
        "paris_city = {\"name\": \"Paris\",\n",
        "              \"total_population\": 2102650,\n",
        "              \"continent\": \"Europe\",\n",
        "              \"location\": [48.8566, 2.3522],\n",
        "              \"area\": {\n",
        "                  \"prefecture_level\": 105.4\n",
        "              }}"
      ]
    },
    {
      "cell_type": "markdown",
      "metadata": {
        "id": "x6Xa65XVAw_4"
      },
      "source": [
        "What is the data type of the value of `location`? What about `area`?\n"
      ]
    },
    {
      "cell_type": "code",
      "execution_count": 3,
      "metadata": {
        "ExecuteTime": {
          "end_time": "2024-02-13T12:06:24.177504Z",
          "start_time": "2024-02-13T12:06:24.168783Z"
        },
        "id": "GE7GFCX4EIkX",
        "colab": {
          "base_uri": "https://localhost:8080/"
        },
        "outputId": "845d89d9-9a3f-4876-8b95-89882d48d2a4"
      },
      "outputs": [
        {
          "output_type": "execute_result",
          "data": {
            "text/plain": [
              "list"
            ]
          },
          "metadata": {},
          "execution_count": 3
        }
      ],
      "source": [
        "#your code here\n",
        "type(paris_city['location'])"
      ]
    },
    {
      "cell_type": "code",
      "source": [
        "type(paris_city['area'])"
      ],
      "metadata": {
        "colab": {
          "base_uri": "https://localhost:8080/"
        },
        "id": "UU-XdyznAscD",
        "outputId": "f34dc1b4-8c9b-460e-ca59-4dac9ea4619f"
      },
      "execution_count": 4,
      "outputs": [
        {
          "output_type": "execute_result",
          "data": {
            "text/plain": [
              "dict"
            ]
          },
          "metadata": {},
          "execution_count": 4
        }
      ]
    },
    {
      "cell_type": "markdown",
      "metadata": {
        "id": "FTD6Z3lPEStU"
      },
      "source": [
        "How do we get the `prefecture_level` from `paris_city` ?\n",
        "\n",
        "\n"
      ]
    },
    {
      "cell_type": "code",
      "execution_count": 5,
      "metadata": {
        "ExecuteTime": {
          "end_time": "2024-02-13T12:42:33.033047Z",
          "start_time": "2024-02-13T12:42:33.021091Z"
        },
        "id": "0x7cIrUUEcpK",
        "colab": {
          "base_uri": "https://localhost:8080/"
        },
        "outputId": "6bcbe4dc-b237-49f3-f8c8-0331311c04ec"
      },
      "outputs": [
        {
          "output_type": "execute_result",
          "data": {
            "text/plain": [
              "105.4"
            ]
          },
          "metadata": {},
          "execution_count": 5
        }
      ],
      "source": [
        "#your code here\n",
        "paris_city['area']['prefecture_level']"
      ]
    },
    {
      "cell_type": "markdown",
      "metadata": {
        "id": "0gbqOyRiEcYX"
      },
      "source": [
        "How do we get the `longitude` from `paris_city` ?\n",
        "\n"
      ]
    },
    {
      "cell_type": "code",
      "execution_count": 6,
      "metadata": {
        "ExecuteTime": {
          "end_time": "2024-02-13T12:42:56.775228Z",
          "start_time": "2024-02-13T12:42:56.752159Z"
        },
        "id": "ncyiUMxsEwPZ",
        "colab": {
          "base_uri": "https://localhost:8080/"
        },
        "outputId": "92066055-9568-4f8e-e1f6-0c79307ce90d"
      },
      "outputs": [
        {
          "output_type": "execute_result",
          "data": {
            "text/plain": [
              "2.3522"
            ]
          },
          "metadata": {},
          "execution_count": 6
        }
      ],
      "source": [
        "#your code here\n",
        "paris_city['location'][1]"
      ]
    },
    {
      "cell_type": "markdown",
      "metadata": {
        "id": "CRhMbQ-GlfXC"
      },
      "source": [
        "Create a function `get_key_value_from_city` that takes two arguments `city` and `key` and outputs the `key` value from the city.\n",
        "\n",
        "\n",
        "\n",
        "__Eg__: `get_key_value_from_city(city=paris_city, key=\"total_population\")` will output 2102650\n",
        "\n",
        "\n",
        "<u>Note:</u> If a property doesn't exist, the function should return \"_property_ not defined\"\n",
        "    \n",
        "\n",
        "\n",
        "\n"
      ]
    },
    {
      "cell_type": "code",
      "execution_count": 20,
      "metadata": {
        "ExecuteTime": {
          "end_time": "2024-02-13T15:25:12.742813Z",
          "start_time": "2024-02-13T15:25:12.732077Z"
        },
        "id": "Rgqzj8y8FYjU",
        "colab": {
          "base_uri": "https://localhost:8080/"
        },
        "outputId": "3be72ad6-f811-4aec-a879-2cdeb43eed9f"
      },
      "outputs": [
        {
          "output_type": "stream",
          "name": "stdout",
          "text": [
            "2102650\n",
            "property not defined\n"
          ]
        }
      ],
      "source": [
        "# create the function with the selected arguments\n",
        "def get_key_value_from_city(city, key):\n",
        "\n",
        "  # to be completed\n",
        "  # set default output\n",
        "  # output = 2102650\n",
        "\n",
        "  # to be completed\n",
        "  # set the output if the required key exists in the selected city\n",
        "  if key in city:\n",
        "          return city[key]\n",
        "  else:\n",
        "          return \"property not defined\"\n",
        "\n",
        "# to be completed\n",
        "# test the function with the given example\n",
        "# Fetching the total_population\n",
        "result = get_key_value_from_city(city=paris_city, key=\"total_population\")\n",
        "print(result)  # Output: 2102650\n",
        "\n",
        "# Trying to fetch a non-existent key\n",
        "result = get_key_value_from_city(city=paris_city, key=\"mayor\")\n",
        "print(result)  # Output: property not defined"
      ]
    },
    {
      "cell_type": "markdown",
      "metadata": {
        "id": "T_pIQ8wW_S5k"
      },
      "source": [
        "## Information for all cities\n",
        "\n"
      ]
    },
    {
      "cell_type": "markdown",
      "metadata": {
        "id": "E6npEinSHZOr"
      },
      "source": [
        "The travel agency has collected multiple cities information where it manages accommodations. \\\n",
        "All of these cities are stored in a Python list called `cities`."
      ]
    },
    {
      "cell_type": "markdown",
      "metadata": {
        "id": "2BSHTaHyBB9g"
      },
      "source": [
        "Execute the cell below to load data. How many cities do they have?"
      ]
    },
    {
      "cell_type": "code",
      "execution_count": 12,
      "metadata": {
        "ExecuteTime": {
          "end_time": "2024-02-13T17:01:09.847504Z",
          "start_time": "2024-02-13T17:01:09.835341Z"
        },
        "id": "0bj29sWQH7Vw"
      },
      "outputs": [],
      "source": [
        "cities = [\n",
        "    {\n",
        "        \"name\": \"Paris\",\n",
        "        \"total_population\": 2102650,\n",
        "        \"continent\": \"Europe\",\n",
        "        \"location\": [48.8566, 2.3522],\n",
        "        \"area\": {\n",
        "            \"prefecture_level\": 105.4\n",
        "        }\n",
        "    },\n",
        "    {\n",
        "        \"name\": \"Xi’an\",\n",
        "        \"total_population\": 12328000,\n",
        "        \"continent\": \"Asia\",\n",
        "        \"location\": [34.2667, 108.9000],\n",
        "        \"area\": {\n",
        "            \"prefecture_level\": 10762\n",
        "        }\n",
        "    },\n",
        "    {\n",
        "        \"name\": \"Chengdu\",\n",
        "        \"total_population\": 14645000,\n",
        "        \"continent\": \"Asia\",\n",
        "        \"location\": [30.6600, 104.0633],\n",
        "        \"area\": {\n",
        "            \"prefecture_level\": 14378\n",
        "        }\n",
        "    },\n",
        "    {\n",
        "        \"name\": \"Los Angeles\",\n",
        "        \"total_population\": 12121244,\n",
        "        \"continent\": \"North America\",\n",
        "        \"location\": [34.1141, -118.4068],\n",
        "        \"area\": {\n",
        "            \"prefecture_level\": 1299\n",
        "        }\n",
        "    },\n",
        "    {\n",
        "        \"name\": \"Brooklyn\",\n",
        "        \"total_population\": 2736074,\n",
        "        \"continent\": \"North America\",\n",
        "        \"location\": [40.6501, -73.9496],\n",
        "        \"area\": {\n",
        "            \"prefecture_level\": 180\n",
        "        }\n",
        "    }\n",
        "]"
      ]
    },
    {
      "cell_type": "code",
      "execution_count": 13,
      "metadata": {
        "ExecuteTime": {
          "end_time": "2024-02-13T13:11:20.949462Z",
          "start_time": "2024-02-13T13:11:20.937614Z"
        },
        "id": "J5gkqrixBHuD",
        "colab": {
          "base_uri": "https://localhost:8080/"
        },
        "outputId": "d42faa21-a64d-4893-b4fa-6c7dca8435c6"
      },
      "outputs": [
        {
          "output_type": "execute_result",
          "data": {
            "text/plain": [
              "5"
            ]
          },
          "metadata": {},
          "execution_count": 13
        }
      ],
      "source": [
        "#your code here\n",
        "len(cities)"
      ]
    },
    {
      "cell_type": "markdown",
      "metadata": {
        "id": "cfBcG5Jx_0oC"
      },
      "source": [
        "### Reading value\n",
        "\n"
      ]
    },
    {
      "cell_type": "markdown",
      "metadata": {
        "id": "khUbLMYTL-CN"
      },
      "source": [
        "By utilizing your previous function `get_key_value_from_city` create a new one that will take two arguments: a `city_name` and a `key`.\n",
        "\n",
        "If the city is not in the list, the function should return \"*city* doesn't exist or is not covered\".\n",
        "\n",
        "Test your function with multiple examples."
      ]
    },
    {
      "cell_type": "code",
      "execution_count": 23,
      "metadata": {
        "ExecuteTime": {
          "end_time": "2024-02-13T17:01:13.576168Z",
          "start_time": "2024-02-13T17:01:13.563599Z"
        },
        "id": "Xzd3iPOoMSzQ",
        "colab": {
          "base_uri": "https://localhost:8080/"
        },
        "outputId": "1082afd1-8bb3-4fe8-a5d3-07c16e180d91"
      },
      "outputs": [
        {
          "output_type": "stream",
          "name": "stdout",
          "text": [
            "city doesn't exist or is not covered\n",
            "2102650\n"
          ]
        }
      ],
      "source": [
        "def get_key_value_from_city_list(city_name, key, cities):\n",
        "    # Find the city by its name\n",
        "    for city in cities:\n",
        "        if city[\"name\"] == city_name:\n",
        "            # Return the value of the specified key, if it exists\n",
        "            return get_key_value_from_city(city, key)\n",
        "\n",
        "    # If the city is not found, return this message\n",
        "    return \"city doesn't exist or is not covered\"\n",
        "\n",
        "\n",
        "print(get_key_value_from_city_list(\"Berlin\", \"total_population\", cities))\n",
        "print(get_key_value_from_city_list(\"Paris\", \"total_population\", cities))"
      ]
    },
    {
      "cell_type": "markdown",
      "metadata": {
        "id": "OB5ObbEl_0oD"
      },
      "source": [
        "### Update value\n"
      ]
    },
    {
      "cell_type": "markdown",
      "metadata": {
        "id": "co-Z53zYCnAN"
      },
      "source": [
        "Sometimes, city information can be incorrect or require updates.\n",
        "\n",
        "Create a `modify_city_key_value` function that replaces an existing key's value with a new one. \\\n",
        "It takes three arguments: a `city_name`, a `key` and a new`value` to assign to the key.\n",
        "\n",
        "The function will generate a text message indicating one of the following scenarios:\n",
        "\n",
        "- If the city doesn't exist or is not covered: \"*city* doesn't exist or is not covered.\"\n",
        "- If the provided key doesn't exist: \"*key* doesn't exist.\"\n",
        "- If the key has been successfully updated for the city: \"*key* has been updated for *city*.\""
      ]
    },
    {
      "cell_type": "code",
      "execution_count": 29,
      "metadata": {
        "ExecuteTime": {
          "end_time": "2024-02-13T17:02:08.090675Z",
          "start_time": "2024-02-13T17:02:08.076729Z"
        },
        "id": "9SfhtUrPNNtr",
        "colab": {
          "base_uri": "https://localhost:8080/"
        },
        "outputId": "d5e55b88-a5fc-4460-993f-578fe0e298b7"
      },
      "outputs": [
        {
          "output_type": "stream",
          "name": "stdout",
          "text": [
            "total_population has been updated for Paris.\n"
          ]
        }
      ],
      "source": [
        "# create the function with the selected arguments\n",
        "\n",
        "def modify_city_key_value(city_name, key, value):\n",
        "\n",
        "\n",
        "  for city in cities:\n",
        "    if city[\"name\"] == city_name:\n",
        "\n",
        "        city[key] = value\n",
        "        return f\"{key} has been updated for {city_name}.\"\n",
        "\n",
        "    return f\"{city_name} doesn't exist or is not covered.\"\n",
        "\n",
        "print(modify_city_key_value(\"Paris\", \"total_population\", 2000080))\n",
        "\n"
      ]
    },
    {
      "cell_type": "code",
      "source": [
        "cities"
      ],
      "metadata": {
        "colab": {
          "base_uri": "https://localhost:8080/"
        },
        "id": "_5KMUuQyJT8I",
        "outputId": "71c0b5dd-9e43-4015-ba06-6596340a1f64"
      },
      "execution_count": 28,
      "outputs": [
        {
          "output_type": "execute_result",
          "data": {
            "text/plain": [
              "[{'name': 'Paris',\n",
              "  'total_population': 2000080,\n",
              "  'continent': 'Europe',\n",
              "  'location': [48.8566, 2.3522],\n",
              "  'area': {'prefecture_level': 105.4}},\n",
              " {'name': 'Xi’an',\n",
              "  'total_population': 12328000,\n",
              "  'continent': 'Asia',\n",
              "  'location': [34.2667, 108.9],\n",
              "  'area': {'prefecture_level': 10762}},\n",
              " {'name': 'Chengdu',\n",
              "  'total_population': 14645000,\n",
              "  'continent': 'Asia',\n",
              "  'location': [30.66, 104.0633],\n",
              "  'area': {'prefecture_level': 14378}},\n",
              " {'name': 'Los Angeles',\n",
              "  'total_population': 12121244,\n",
              "  'continent': 'North America',\n",
              "  'location': [34.1141, -118.4068],\n",
              "  'area': {'prefecture_level': 1299}},\n",
              " {'name': 'Brooklyn',\n",
              "  'total_population': 2736074,\n",
              "  'continent': 'North America',\n",
              "  'location': [40.6501, -73.9496],\n",
              "  'area': {'prefecture_level': 180}}]"
            ]
          },
          "metadata": {},
          "execution_count": 28
        }
      ]
    },
    {
      "cell_type": "markdown",
      "metadata": {
        "id": "YfHEZCpEFMi9"
      },
      "source": [
        "## Search engine"
      ]
    },
    {
      "cell_type": "markdown",
      "metadata": {
        "id": "3pKSC0beFRch"
      },
      "source": [
        "It is quite common for customers to seek destinations that are not far from their current location in order to minimize transportation costs.\n",
        "\n",
        "\n",
        "The travel agency requires your assistance in developing a function that can provide a list of nearby cities."
      ]
    },
    {
      "cell_type": "markdown",
      "metadata": {
        "id": "0lx9Yy02_0oE"
      },
      "source": [
        "### Geopy\n"
      ]
    },
    {
      "cell_type": "markdown",
      "metadata": {
        "id": "8RKP69p-FrXb"
      },
      "source": [
        "Execute the two cells below to see to observe how we can calculate the distance between two locations. \\\n",
        "Thanks to the [Geopy](https://geopy.readthedocs.io/en/stable/#) library,  this process is quite straightforward."
      ]
    },
    {
      "cell_type": "code",
      "execution_count": null,
      "metadata": {
        "ExecuteTime": {
          "end_time": "2024-02-13T16:51:02.878914Z",
          "start_time": "2024-02-13T16:51:00.886496Z"
        },
        "id": "d9Y-n4mUlL2Q"
      },
      "outputs": [],
      "source": [
        "!pip install geopy\n",
        "from geopy import distance"
      ]
    },
    {
      "cell_type": "code",
      "execution_count": 34,
      "metadata": {
        "ExecuteTime": {
          "end_time": "2024-02-13T16:51:02.884463Z",
          "start_time": "2024-02-13T16:51:02.881122Z"
        },
        "id": "Dsb9unZv_0oE",
        "colab": {
          "base_uri": "https://localhost:8080/"
        },
        "outputId": "12037234-cb05-4a3c-ed17-3cd5b68efd09"
      },
      "outputs": [
        {
          "output_type": "stream",
          "name": "stdout",
          "text": [
            "866.46\n"
          ]
        }
      ],
      "source": [
        "newport_ri = [41.49008, -71.312796]\n",
        "cleveland_oh = [41.499498, -81.695391]\n",
        "\n",
        "print(round(distance.distance(newport_ri, cleveland_oh).km,2))\n"
      ]
    },
    {
      "cell_type": "markdown",
      "metadata": {
        "id": "jAqwumfvG97A"
      },
      "source": [
        "What is the data type of `distance.distance(newport_ri, cleveland_oh)`?"
      ]
    },
    {
      "cell_type": "code",
      "execution_count": 35,
      "metadata": {
        "ExecuteTime": {
          "end_time": "2024-02-13T16:52:26.290763Z",
          "start_time": "2024-02-13T16:52:26.265873Z"
        },
        "id": "AneA6YqQHXrF",
        "colab": {
          "base_uri": "https://localhost:8080/",
          "height": 186
        },
        "outputId": "2679d2c1-7dab-421c-f21a-44e10648d052"
      },
      "outputs": [
        {
          "output_type": "execute_result",
          "data": {
            "text/plain": [
              "geopy.distance.geodesic"
            ],
            "text/html": [
              "<div style=\"max-width:800px; border: 1px solid var(--colab-border-color);\"><style>\n",
              "      pre.function-repr-contents {\n",
              "        overflow-x: auto;\n",
              "        padding: 8px 12px;\n",
              "        max-height: 500px;\n",
              "      }\n",
              "\n",
              "      pre.function-repr-contents.function-repr-contents-collapsed {\n",
              "        cursor: pointer;\n",
              "        max-height: 100px;\n",
              "      }\n",
              "    </style>\n",
              "    <pre style=\"white-space: initial; background:\n",
              "         var(--colab-secondary-surface-color); padding: 8px 12px;\n",
              "         border-bottom: 1px solid var(--colab-border-color);\"><b>geopy.distance.geodesic</b><br/>def __init__(*args, **kwargs)</pre><pre class=\"function-repr-contents function-repr-contents-collapsed\" style=\"\"><a class=\"filepath\" style=\"display:none\" href=\"#\">/usr/local/lib/python3.10/dist-packages/geopy/distance.py</a>Calculate the geodesic distance between points.\n",
              "\n",
              "Set which ellipsoidal model of the earth to use by specifying an\n",
              "``ellipsoid`` keyword argument. The default is &#x27;WGS-84&#x27;, which is the\n",
              "most globally accurate model.  If ``ellipsoid`` is a string, it is\n",
              "looked up in the `ELLIPSOIDS` dictionary to obtain the major and minor\n",
              "semiaxes and the flattening. Otherwise, it should be a tuple with those\n",
              "values.  See the comments above the `ELLIPSOIDS` dictionary for\n",
              "more information.\n",
              "\n",
              "Example::\n",
              "\n",
              "    &gt;&gt;&gt; from geopy.distance import geodesic\n",
              "    &gt;&gt;&gt; newport_ri = (41.49008, -71.312796)\n",
              "    &gt;&gt;&gt; cleveland_oh = (41.499498, -81.695391)\n",
              "    &gt;&gt;&gt; print(geodesic(newport_ri, cleveland_oh).miles)\n",
              "    538.390445368</pre>\n",
              "      <script>\n",
              "      if (google.colab.kernel.accessAllowed && google.colab.files && google.colab.files.view) {\n",
              "        for (const element of document.querySelectorAll('.filepath')) {\n",
              "          element.style.display = 'block'\n",
              "          element.onclick = (event) => {\n",
              "            event.preventDefault();\n",
              "            event.stopPropagation();\n",
              "            google.colab.files.view(element.textContent, 512);\n",
              "          };\n",
              "        }\n",
              "      }\n",
              "      for (const element of document.querySelectorAll('.function-repr-contents')) {\n",
              "        element.onclick = (event) => {\n",
              "          event.preventDefault();\n",
              "          event.stopPropagation();\n",
              "          element.classList.toggle('function-repr-contents-collapsed');\n",
              "        };\n",
              "      }\n",
              "      </script>\n",
              "      </div>"
            ]
          },
          "metadata": {},
          "execution_count": 35
        }
      ],
      "source": [
        "#your code here\n",
        "type(distance.distance(newport_ri, cleveland_oh))"
      ]
    },
    {
      "cell_type": "markdown",
      "metadata": {
        "id": "OZtnw0L9HXNP"
      },
      "source": [
        "<details>\n",
        "    <summary>Answer 💡</summary>\n",
        "    \n",
        "It's a `geopy.distance.geodesic` object.\n",
        "</details>"
      ]
    },
    {
      "cell_type": "markdown",
      "metadata": {
        "id": "wP_xlB99_0oF"
      },
      "source": [
        "### Design the search engine\n"
      ]
    },
    {
      "cell_type": "markdown",
      "metadata": {
        "id": "pk29PbbTO63S"
      },
      "source": [
        "Create a function `get_cities_nearby` that takes two arguments:\n",
        "- `customer_location`: a list of coordinates in the format [lat, long]\n",
        "\n",
        "\n",
        "- `radius`: the threshold in km\n",
        "\n",
        "And returns a `list of cities` located near the provided customer_location.\n",
        "\n",
        "If no city has been found, the function should return an empty list."
      ]
    },
    {
      "cell_type": "markdown",
      "metadata": {
        "id": "Lk7-sNiCIyWA"
      },
      "source": [
        "You can use the city of Guangyan in China (coordinates [32.4355, 105.8436]) and a radius of 500km to test your function.\n",
        "\n",
        "You should find that Xi'an and Chengdu are not very far..."
      ]
    },
    {
      "cell_type": "code",
      "execution_count": 36,
      "metadata": {
        "ExecuteTime": {
          "end_time": "2024-02-13T17:09:40.187832Z",
          "start_time": "2024-02-13T17:09:40.172012Z"
        },
        "id": "Gt9JDf46PRqb"
      },
      "outputs": [],
      "source": [
        "# create the function with the selected arguments\n",
        "\n",
        "def get_cities_nearby(customer_location, radius, cities):\n",
        "    nearby_cities = []\n",
        "    for city in cities:\n",
        "        city_location = city[\"location\"]\n",
        "        distance_km = distance.distance(customer_location, city_location).km\n",
        "        if distance_km <= radius:\n",
        "            nearby_cities.append(city[\"name\"])\n",
        "    return nearby_cities\n",
        "\n",
        "# Test the function with the given example\n",
        "customer_location = [32.4355, 105.8436]\n",
        "radius = 500\n",
        "nearby_cities = get_cities_nearby(customer_location, radius, cities)\n"
      ]
    },
    {
      "cell_type": "code",
      "source": [
        "nearby_cities"
      ],
      "metadata": {
        "colab": {
          "base_uri": "https://localhost:8080/"
        },
        "id": "-gecLYwzL2k1",
        "outputId": "57c10633-76fe-4cf8-b8a1-5c3b31a6c7a8"
      },
      "execution_count": 37,
      "outputs": [
        {
          "output_type": "execute_result",
          "data": {
            "text/plain": [
              "['Xi’an', 'Chengdu']"
            ]
          },
          "metadata": {},
          "execution_count": 37
        }
      ]
    },
    {
      "cell_type": "markdown",
      "metadata": {
        "id": "iVqYzYlDJN9q"
      },
      "source": [
        "Congratulations ! 🎉 \\\n",
        "You now have a search function ready for the travel agents to use !"
      ]
    }
  ],
  "metadata": {
    "colab": {
      "provenance": [],
      "include_colab_link": true
    },
    "kernelspec": {
      "display_name": "Python 3 (ipykernel)",
      "language": "python",
      "name": "python3"
    },
    "language_info": {
      "codemirror_mode": {
        "name": "ipython",
        "version": 3
      },
      "file_extension": ".py",
      "mimetype": "text/x-python",
      "name": "python",
      "nbconvert_exporter": "python",
      "pygments_lexer": "ipython3",
      "version": "3.10.6"
    },
    "toc": {
      "base_numbering": 1,
      "nav_menu": {},
      "number_sections": true,
      "sideBar": true,
      "skip_h1_title": false,
      "title_cell": "Table of Contents",
      "title_sidebar": "Contents",
      "toc_cell": false,
      "toc_position": {},
      "toc_section_display": true,
      "toc_window_display": false
    }
  },
  "nbformat": 4,
  "nbformat_minor": 0
}